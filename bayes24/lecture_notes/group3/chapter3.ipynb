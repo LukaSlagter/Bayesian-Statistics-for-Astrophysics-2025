{
 "cells": [
  {
   "cell_type": "markdown",
   "source": [
    "# Chapter 3: Mathematical foundations of statistics"
   ],
   "metadata": {
    "collapsed": false
   },
   "id": "3d303553e1d72eea"
  },
  {
   "cell_type": "markdown",
   "source": [],
   "metadata": {
    "collapsed": false
   },
   "id": "57e5de95754818ce"
  },
  {
   "cell_type": "markdown",
   "source": [
    "## Sample Spaces"
   ],
   "metadata": {
    "collapsed": false
   },
   "id": "433dc0d71a2be92e"
  },
  {
   "cell_type": "markdown",
   "source": [
    "To have a better understanding of probabilities, we use a **sample space**.\n",
    "\n",
    "**Definition 3.1:**\n",
    "\n",
    "1. The sample space $\\Omega$ is the set of all possible outcomes of an experiment.\n",
    "2. Elements in the sample space are called **outcomes**, and are written in short as $\\omega \\in \\Omega$.\n",
    "3. Subsets of the sample space are called **events**, and are written in short as $A \\subset \\Omega$.\n",
    "\n",
    "Let's start with a simple example: you and your friend just finished the exam for this course. There are two outcomes for each of you, passing $P$ and failing $F$. Then, the set of all possible outcomes is:\n",
    "$$ \\Omega = \\{PP, PF, FP, FF\\} $$"
   ],
   "metadata": {
    "collapsed": false
   },
   "id": "9e9b4f1ee162fa4d"
  },
  {
   "cell_type": "markdown",
   "source": [
    "Now, you are going to a café to celebrate the end of the exam. There are two possible events: having a coffee ($A$) and having a slice of cake ($B$).\n",
    "\n",
    "To visualize events, we like to use Venn diagrams. The full rectangle represents the sample space, and the disks represent the events. The shaded areas show the outcome.\n",
    "\n",
    "**Definition 3.2:**  \n",
    "For a given event $A$, let $A^c = \\{ \\omega \\in \\Omega : \\omega \\notin A \\}$. This is called the **complement** of $A$, and is the event 'not $A$'.\n",
    "\n",
    "The first possible event, is that you do not buy a coffee:  $\\{ \\omega \\in \\Omega : \\omega \\notin A \\}$. In this case, you could buy a cake, or nothing. \n"
   ],
   "metadata": {
    "collapsed": false
   },
   "id": "cd72a43bd85c5b38"
  },
  {
   "cell_type": "code",
   "execution_count": 11,
   "outputs": [],
   "source": [
    "#!!! here add diagram no A"
   ],
   "metadata": {
    "collapsed": false,
    "ExecuteTime": {
     "end_time": "2024-11-06T18:44:21.737285900Z",
     "start_time": "2024-11-06T18:44:21.671148700Z"
    }
   },
   "id": "591e8cbce6cbe1e6"
  },
  {
   "cell_type": "markdown",
   "source": [
    "The same can be said for the cake.\n",
    "\n",
    "It is also possible that you do not buy a coffee, but also not a cake. This is written as $\\{ \\omega \\in \\Omega : \\omega \\notin A  : \\omega \\notin B \\}$ "
   ],
   "metadata": {
    "collapsed": false
   },
   "id": "28fd3bb84e84ceeb"
  },
  {
   "cell_type": "code",
   "execution_count": 12,
   "outputs": [],
   "source": [
    "#!!! here add diagram no A nor B"
   ],
   "metadata": {
    "collapsed": false,
    "ExecuteTime": {
     "end_time": "2024-11-06T18:44:21.769561700Z",
     "start_time": "2024-11-06T18:44:21.689111300Z"
    }
   },
   "id": "2dc190e2a756c600"
  },
  {
   "cell_type": "markdown",
   "source": [
    "**Definition 3.3:**  \n",
    "The **union** of the events $A$ and $B$ is the event \"$A$ or $B$\" and is defined as:\n",
    "$$\n",
    "A \\cup B = \\{ \\omega \\in \\Omega : \\omega \\in A \\text{ or } \\omega \\in B \\text{ or both} \\}\n",
    "$$\n",
    "Here \"or\" is non-exclusive, meaning that $A$ and $B$ can happen separately or simultaneously.\n",
    "\n",
    "In our example, this would mean that you are having a coffee, a cake, or both a coffee and a cake.\n"
   ],
   "metadata": {
    "collapsed": false
   },
   "id": "1ebcfae19e4f4432"
  },
  {
   "cell_type": "code",
   "execution_count": null,
   "outputs": [],
   "source": [],
   "metadata": {
    "collapsed": false
   },
   "id": "e96a4cfb8b8ab24c"
  },
  {
   "cell_type": "markdown",
   "source": [
    "-intersection (A and B)"
   ],
   "metadata": {
    "collapsed": false
   },
   "id": "a932bcb0e53dcead"
  },
  {
   "cell_type": "code",
   "execution_count": null,
   "outputs": [],
   "source": [],
   "metadata": {
    "collapsed": false
   },
   "id": "2636e52ffdafa800"
  },
  {
   "cell_type": "markdown",
   "source": [
    "-difference (A but not B)"
   ],
   "metadata": {
    "collapsed": false
   },
   "id": "9795ea5c353a8798"
  },
  {
   "cell_type": "code",
   "execution_count": null,
   "outputs": [],
   "source": [],
   "metadata": {
    "collapsed": false
   },
   "id": "7781e014c0184115"
  },
  {
   "cell_type": "markdown",
   "source": [
    "## Derivation of Bayes theorem\n"
   ],
   "metadata": {
    "collapsed": false
   },
   "id": "c454f37c2b6d8da6"
  },
  {
   "cell_type": "code",
   "execution_count": 12,
   "outputs": [],
   "source": [],
   "metadata": {
    "collapsed": false,
    "ExecuteTime": {
     "end_time": "2024-11-06T18:44:21.770559Z",
     "start_time": "2024-11-06T18:44:21.724320Z"
    }
   },
   "id": "dae1e6d188195f80"
  },
  {
   "cell_type": "markdown",
   "source": [
    "## Law of total probability \n",
    "\n"
   ],
   "metadata": {
    "collapsed": false
   },
   "id": "c24cf97bdcfc916f"
  },
  {
   "cell_type": "code",
   "execution_count": 12,
   "outputs": [],
   "source": [],
   "metadata": {
    "collapsed": false,
    "ExecuteTime": {
     "end_time": "2024-11-06T18:44:21.790702800Z",
     "start_time": "2024-11-06T18:44:21.735291400Z"
    }
   },
   "id": "62991d149054846d"
  },
  {
   "cell_type": "markdown",
   "source": [
    "## The difference between frequentist and Bayesian views\n",
    "\n"
   ],
   "metadata": {
    "collapsed": false
   },
   "id": "edbc401009b25c53"
  },
  {
   "cell_type": "code",
   "execution_count": 12,
   "outputs": [],
   "source": [],
   "metadata": {
    "collapsed": false,
    "ExecuteTime": {
     "end_time": "2024-11-06T18:44:21.791700400Z",
     "start_time": "2024-11-06T18:44:21.748619200Z"
    }
   },
   "id": "9f2a260b0c2f04a7"
  },
  {
   "cell_type": "markdown",
   "source": [],
   "metadata": {
    "collapsed": false
   },
   "id": "80e632c06aa889b6"
  },
  {
   "cell_type": "code",
   "execution_count": 12,
   "outputs": [],
   "source": [],
   "metadata": {
    "collapsed": false,
    "ExecuteTime": {
     "end_time": "2024-11-06T18:44:21.792698Z",
     "start_time": "2024-11-06T18:44:21.763577800Z"
    }
   },
   "id": "312cad331e6df035"
  }
 ],
 "metadata": {
  "kernelspec": {
   "display_name": "Python 3",
   "language": "python",
   "name": "python3"
  },
  "language_info": {
   "codemirror_mode": {
    "name": "ipython",
    "version": 2
   },
   "file_extension": ".py",
   "mimetype": "text/x-python",
   "name": "python",
   "nbconvert_exporter": "python",
   "pygments_lexer": "ipython2",
   "version": "2.7.6"
  }
 },
 "nbformat": 4,
 "nbformat_minor": 5
}
