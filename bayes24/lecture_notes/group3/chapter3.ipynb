{
 "cells": [
  {
   "cell_type": "markdown",
   "id": "3d303553e1d72eea",
   "metadata": {
    "collapsed": false
   },
   "source": [
    "# Chapter 3: Mathematical foundations of statistics"
   ]
  },
  {
   "cell_type": "markdown",
   "id": "57e5de95754818ce",
   "metadata": {
    "collapsed": false
   },
   "source": []
  },
  {
   "cell_type": "markdown",
   "id": "433dc0d71a2be92e",
   "metadata": {
    "collapsed": false
   },
   "source": [
    "## Sample Spaces"
   ]
  },
  {
   "cell_type": "code",
   "execution_count": null,
   "id": "b43a81671cddb271",
   "metadata": {
    "ExecuteTime": {
     "end_time": "2024-10-23T15:28:44.293983Z",
     "start_time": "2024-10-23T15:28:44.246137500Z"
    },
    "collapsed": false
   },
   "outputs": [],
   "source": []
  },
  {
   "cell_type": "markdown",
   "id": "c454f37c2b6d8da6",
   "metadata": {
    "collapsed": false
   },
   "source": [
    "## Derivation of Bayes theorem\n"
   ]
  },
  {
   "cell_type": "code",
   "execution_count": null,
   "id": "dae1e6d188195f80",
   "metadata": {
    "ExecuteTime": {
     "end_time": "2024-10-23T15:28:44.318646700Z",
     "start_time": "2024-10-23T15:28:44.283030800Z"
    },
    "collapsed": false
   },
   "outputs": [],
   "source": []
  },
  {
   "cell_type": "markdown",
   "id": "c24cf97bdcfc916f",
   "metadata": {
    "collapsed": false
   },
   "source": [
    "## 3.3 Law of total probability \n",
    "The law of total probability expresses the probability that a certain outcome will occur; it adds up all the probabilities of distinct events that lead to this same outcome. To make it more clear let's throw two indistinguishable dice and calculate the probability that the sum of the two dice is four. There are two distinct events that have this outcome, namely $2 + 2$ and $3 + 1$. In this case the probabilities of these two distinct events are respectively $\\frac{1}{36}$ and $\\frac{1}{18}$, the law of total probability tells us then that the total probability of having four as the outcome is $\\frac{1}{36} + \\frac{1}{18} = \\frac{1}{12}$.\n",
    "\n",
    "### 3.3.1 Discrete case\n",
    "Let $A = \\{A_1, A_2, ..., A_n\\}$ be a set of collectively exhaustive and disjoint events, meaning that one and only one of these events will occur. Then the total probability of an event $B$ happening is\n",
    "\\begin{equation}\n",
    "P(B) = \\sum_n P(B|A_n)P(A_n)   \n",
    "\\end{equation}\n",
    "\n",
    "\n",
    "### 3.3.2 Continuous case\n",
    "\n",
    "\n"
   ]
  },
  {
   "cell_type": "code",
   "execution_count": null,
   "id": "62991d149054846d",
   "metadata": {
    "ExecuteTime": {
     "end_time": "2024-10-23T15:28:44.345479600Z",
     "start_time": "2024-10-23T15:28:44.304702400Z"
    },
    "collapsed": false
   },
   "outputs": [],
   "source": []
  },
  {
   "cell_type": "markdown",
   "id": "edbc401009b25c53",
   "metadata": {
    "collapsed": false
   },
   "source": [
    "## The difference between frequentist and Bayesian views\n",
    "\n"
   ]
  },
  {
   "cell_type": "code",
   "execution_count": null,
   "id": "9f2a260b0c2f04a7",
   "metadata": {
    "collapsed": false
   },
   "outputs": [],
   "source": []
  },
  {
   "cell_type": "markdown",
   "id": "80e632c06aa889b6",
   "metadata": {
    "collapsed": false
   },
   "source": []
  },
  {
   "cell_type": "code",
   "execution_count": null,
   "id": "312cad331e6df035",
   "metadata": {
    "collapsed": false
   },
   "outputs": [],
   "source": []
  }
 ],
 "metadata": {
  "kernelspec": {
   "display_name": "Python 3",
   "language": "python",
   "name": "python3"
  },
  "language_info": {
   "codemirror_mode": {
    "name": "ipython",
    "version": 2
   },
   "file_extension": ".py",
   "mimetype": "text/x-python",
   "name": "python",
   "nbconvert_exporter": "python",
   "pygments_lexer": "ipython2",
   "version": "2.7.6"
  }
 },
 "nbformat": 4,
 "nbformat_minor": 5
}
