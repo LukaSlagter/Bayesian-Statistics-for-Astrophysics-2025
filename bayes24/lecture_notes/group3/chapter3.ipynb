{
 "cells": [
  {
   "cell_type": "markdown",
   "id": "3d303553e1d72eea",
   "metadata": {
    "collapsed": false
   },
   "source": [
    "# Chapter 3: Mathematical foundations of statistics"
   ]
  },
  {
   "cell_type": "markdown",
   "id": "57e5de95754818ce",
   "metadata": {
    "collapsed": false
   },
   "source": [
    "[introduction]"
   ]
  },
  {
   "cell_type": "markdown",
   "id": "433dc0d71a2be92e",
   "metadata": {
    "collapsed": false
   },
   "source": [
    "## Sample Spaces"
   ]
  },
  {
   "cell_type": "markdown",
   "id": "9e9b4f1ee162fa4d",
   "metadata": {
    "collapsed": false
   },
   "source": [
    "To have a better understanding of probabilities, we use a **sample space**.\n",
    "\n",
    "**Definition 3.1:**\n",
    "\n",
    "1. The sample space $\\Omega$ is the set of all possible outcomes of an experiment.\n",
    "2. Elements in the sample space are called **outcomes**, and are written in short as $\\omega \\in \\Omega$.\n",
    "3. Subsets of the sample space are called **events**, and are written in short as $A \\subset \\Omega$.\n",
    "\n",
    "Let's start with a simple example: you and your friend just finished the exam for this course. There are two outcomes for each of you, passing $P$ and failing $F$. Then, the set of all possible outcomes is:\n",
    "$$ \\Omega = \\{PP, PF, FP, FF\\} $$"
   ]
  },
  {
   "cell_type": "markdown",
   "id": "cd72a43bd85c5b38",
   "metadata": {
    "collapsed": false
   },
   "source": [
    "Now, you are going to a café to celebrate the end of the exam. There are two possible events: having a coffee ($A$) and having a slice of cake ($B$).\n",
    "\n",
    "To visualize events, we like to use Venn diagrams. The full rectangle represents the sample space, and the disks represent the events. The shaded areas show the outcome.\n",
    "\n",
    "**Definition 3.2:**  \n",
    "For a given event $A$, let $A^c = \\{ \\omega \\in \\Omega : \\omega \\notin A \\}$. This is called the **complement** of $A$, and is the event 'not $A$'.\n",
    "\n",
    "The first possible event, is that you do not buy a coffee:  $\\{ \\omega \\in \\Omega : \\omega \\notin A \\}$. In this case, you could buy a cake, or nothing.  \n",
    "\n",
    "![ss_notA](figures/ss_notA.png)\n"
   ]
  },
  {
   "cell_type": "markdown",
   "id": "28fd3bb84e84ceeb",
   "metadata": {
    "collapsed": false
   },
   "source": [
    "The same can be said for the cake.\n",
    "\n",
    "It is also possible that you do not buy a coffee, but also not a cake. This is written as $\\{ \\omega \\in \\Omega : \\omega \\notin A  : \\omega \\notin B \\}$ \n",
    "\n",
    "![ss_notAnorB](figures/ss_notAnorB.png)"
   ]
  },
  {
   "cell_type": "markdown",
   "id": "1ebcfae19e4f4432",
   "metadata": {
    "collapsed": false
   },
   "source": [
    "**Definition 3.3:**  \n",
    "The **union** of the events $A$ and $B$ is the event \"$A$ or $B$\" and is defined as:\n",
    "$$\n",
    "A \\cup B = \\{ \\omega \\in \\Omega : \\omega \\in A \\text{ or } \\omega \\in B \\text{ or both} \\}\n",
    "$$\n",
    "Here \"or\" is non-exclusive, meaning that $A$ and $B$ can happen separately or simultaneously.\n",
    "\n",
    "In our example, this would mean that you are having a coffee, a cake, or both a coffee and a cake.\n",
    "![ss_AorB](figures/ss_AorB.png)\n"
   ]
  },
  {
   "cell_type": "markdown",
   "id": "a932bcb0e53dcead",
   "metadata": {
    "collapsed": false
   },
   "source": [
    "**Definition 3.4:**\n",
    "The **intersection** of A and B is defined as:\n",
    "$$\n",
    "A \\cap B = \\{ \\omega \\in \\Omega : \\omega \\in A \\text{ and } \\omega \\in B \\text{ simultaneously} \\}\n",
    "$$\n",
    "\n",
    "In our example, this would mean that you are having both a coffee and a cake.\n",
    "![ss_AandB](figures/ss_AandB.png)"
   ]
  },
  {
   "cell_type": "markdown",
   "id": "9795ea5c353a8798",
   "metadata": {
    "collapsed": false
   },
   "source": [
    "**Definition 3.5:**\n",
    "The **difference** in A and B is the event \"A but not B\". This is defined as:\n",
    "$$\n",
    "A \\backslash B = \\{ \\omega \\in \\Omega : \\omega \\in A \\text{ and } \\omega \\notin B \\}\n",
    "$$\n",
    "\n",
    "\n",
    "![ss_AbutnotB](figures/ss_AbutnotB.png)"
   ]
  },
  {
   "cell_type": "markdown",
   "id": "c454f37c2b6d8da6",
   "metadata": {
    "collapsed": false
   },
   "source": [
    "## Derivation of Bayes theorem\n"
   ]
  },
  {
   "cell_type": "code",
   "execution_count": 12,
   "id": "dae1e6d188195f80",
   "metadata": {
    "ExecuteTime": {
     "end_time": "2024-11-06T18:44:21.770559Z",
     "start_time": "2024-11-06T18:44:21.724320Z"
    },
    "collapsed": false
   },
   "outputs": [],
   "source": []
  },
  {
   "cell_type": "markdown",
   "id": "c24cf97bdcfc916f",
   "metadata": {
    "collapsed": false
   },
   "source": [
    "## 3.3 Law of total probability \n",
    "The law of total probability expresses the probability that a certain outcome will occur; it adds up all the probabilities of distinct events that lead to this same outcome. To make it more clear let's throw two indistinguishable dice and calculate the probability that the sum of the two dice is four. There are two distinct events that have this outcome, namely $2 + 2$ and $3 + 1$. In this case the probabilities of these two distinct events are respectively $\\frac{1}{36}$ and $\\frac{1}{18}$, the law of total probability tells us then that the total probability of having four as the outcome is $\\frac{1}{36} + \\frac{1}{18} = \\frac{1}{12}$.\n",
    "\n",
    "### 3.3.1 Discrete case\n",
    "Let $A = \\{A_1, A_2, ..., A_n\\}$ be a set of collectively exhaustive and disjoint events, meaning that one and only one of these events will occur. Then the total probability of an event $B$ happening is\n",
    "\\begin{equation}\n",
    "P(B) = \\sum_n P(B|A_n)P(A_n)   \n",
    "\\end{equation}\n",
    "\n",
    "\n",
    "### 3.3.2 Continuous case\n"
   ]
  },
  {
   "cell_type": "code",
   "execution_count": 12,
   "id": "62991d149054846d",
   "metadata": {
    "ExecuteTime": {
     "end_time": "2024-11-06T18:44:21.790702800Z",
     "start_time": "2024-11-06T18:44:21.735291400Z"
    },
    "collapsed": false
   },
   "outputs": [],
   "source": []
  },
  {
   "cell_type": "markdown",
   "id": "edbc401009b25c53",
   "metadata": {
    "collapsed": false
   },
   "source": [
    "## The difference between frequentist and Bayesian views\n",
    "\n"
   ]
  },
  {
   "cell_type": "code",
   "execution_count": 12,
   "id": "9f2a260b0c2f04a7",
   "metadata": {
    "ExecuteTime": {
     "end_time": "2024-11-06T18:44:21.791700400Z",
     "start_time": "2024-11-06T18:44:21.748619200Z"
    },
    "collapsed": false
   },
   "outputs": [],
   "source": []
  },
  {
   "cell_type": "markdown",
   "id": "80e632c06aa889b6",
   "metadata": {
    "collapsed": false
   },
   "source": []
  },
  {
   "cell_type": "code",
   "execution_count": 12,
   "id": "312cad331e6df035",
   "metadata": {
    "ExecuteTime": {
     "end_time": "2024-11-06T18:44:21.792698Z",
     "start_time": "2024-11-06T18:44:21.763577800Z"
    },
    "collapsed": false
   },
   "outputs": [],
   "source": []
  }
 ],
 "metadata": {
  "kernelspec": {
   "display_name": "Python 3",
   "language": "python",
   "name": "python3"
  },
  "language_info": {
   "codemirror_mode": {
    "name": "ipython",
    "version": 2
   },
   "file_extension": ".py",
   "mimetype": "text/x-python",
   "name": "python",
   "nbconvert_exporter": "python",
   "pygments_lexer": "ipython2",
   "version": "2.7.6"
  }
 },
 "nbformat": 4,
 "nbformat_minor": 5
}
