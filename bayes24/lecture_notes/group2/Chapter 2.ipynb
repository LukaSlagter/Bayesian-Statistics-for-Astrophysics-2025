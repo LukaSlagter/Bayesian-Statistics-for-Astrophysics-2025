{
 "cells": [
  {
   "cell_type": "markdown",
   "id": "60829496",
   "metadata": {},
   "source": [
    "# Chapter 2: Information Criterions and Bootstrap Confidence Intervals"
   ]
  },
  {
   "cell_type": "markdown",
   "id": "e8323d65",
   "metadata": {},
   "source": [
    "In this chapter, we'll cover the Akaike Information Criterion (AIC) and Bayesian Information Criterion (BIC) for nested models, as well as the bootstrap method for confidence intervals. "
   ]
  },
  {
   "cell_type": "markdown",
   "id": "0545c351",
   "metadata": {},
   "source": [
    "## Nested Models"
   ]
  },
  {
   "cell_type": "markdown",
   "id": "a755c3f5",
   "metadata": {},
   "source": [
    "Let's say we have model A with variables $\\theta_1$, $\\theta_2$ and $\\theta_3$. Model B is nested in model A if model B contains a subset of the variables of model A, e.g. if model B has variables $\\theta_1$ and $\\theta_3$. We call model B a $\\textbf{nested model}$. \n",
    "Model B is $\\textbf{not}$ a nested model if it contains a variable that model A doesn't contain, e.g. if model B has variables $\\theta_1$, $\\theta_3$ and $\\theta_4$. \n",
    "\n",
    "[overgang van nested models naar AIC and BIC en waarom we naar nested models kijken]\n"
   ]
  },
  {
   "cell_type": "markdown",
   "id": "f1bf12da",
   "metadata": {},
   "source": [
    "## Akaike Information Criterion (AIC)"
   ]
  },
  {
   "cell_type": "markdown",
   "id": "014e0c8d-7cd9-4e4f-8f88-729e83e7e13c",
   "metadata": {},
   "source": [
    "tekst voor AIC en BIC\n",
    "\n",
    "Zo krijg je een formule in de tekst\n",
    "$AIC = 2*2=4$\n",
    "\n",
    "Zo krijg je een formule in het midden. De tag is voor de nummering.\n",
    "De unit boven [Eq. 1](#eq:AIC) maakt het mogelijk om er zo naar te refereren.\n",
    "\n",
    "\n",
    "The Akaike Information Criterion (AIC) is an estimator of prediction error of statistical models. It is a method for evaluating how well a model fits the data it was generated from. \n",
    "\n",
    "It combines the max-liklihood and the number of parameters $p_k$.\n",
    "\n",
    "<a id=\"eq:AIC\"></a>\n",
    "$$AIC = - 2\\max\\left[\\ln(L)\\right] + 2p_k,\\tag{1}$$\n",
    "\n"
   ]
  },
  {
   "cell_type": "markdown",
   "id": "e0110127-378a-473b-a39d-e303dd9cc40e",
   "metadata": {},
   "source": [
    "## Bayesian Information Criterion (BIC)\n"
   ]
  },
  {
   "cell_type": "markdown",
   "id": "a095843e",
   "metadata": {},
   "source": [
    "\n"
   ]
  },
  {
   "cell_type": "markdown",
   "id": "bf65de41",
   "metadata": {},
   "source": [
    "## Bootstrap and confidence intervals"
   ]
  },
  {
   "cell_type": "markdown",
   "id": "d0f379ed",
   "metadata": {},
   "source": [
    "The bootstrap technique is used to estimate a confidence interval for a parameter which inherently does not have a confidence interval. First we need to understand what a confidence interval is. \n",
    "\n",
    "Confidence intervals\n",
    "\n",
    "It is a way to easily say some value can be found with a certain confidence within an interval. For example, you want to find your parameter $\\theta$ with 95% confidence. It would not suffice to find some value $\\theta$ within your data and say that you are 95% confident that the found $\\theta$ is the actual $\\theta$. You need to found the boundary or the interval in which you find the $\\theta$ 95% of the time. Thus eventually founding ($\\theta_{lower}$, $\\theta_{higher}$), now you have expressed an interval in which you can say a found $\\theta$ resides 95% of the time.\n"
   ]
  },
  {
   "cell_type": "markdown",
   "id": "758974cc",
   "metadata": {},
   "source": []
  }
 ],
 "metadata": {
  "kernelspec": {
   "display_name": "Python 3 (ipykernel)",
   "language": "python",
   "name": "python3"
  },
  "language_info": {
   "codemirror_mode": {
    "name": "ipython",
    "version": 3
   },
   "file_extension": ".py",
   "mimetype": "text/x-python",
   "name": "python",
   "nbconvert_exporter": "python",
   "pygments_lexer": "ipython3",
   "version": "3.9.19"
  }
 },
 "nbformat": 4,
 "nbformat_minor": 5
}
