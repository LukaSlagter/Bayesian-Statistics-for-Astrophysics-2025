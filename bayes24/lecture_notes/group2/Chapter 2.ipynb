{
 "cells": [
  {
   "cell_type": "markdown",
   "id": "60829496",
   "metadata": {},
   "source": [
    "# Chapter 2: Information Criterions and Bootstrap Confidence Intervals"
   ]
  },
  {
   "cell_type": "markdown",
   "id": "e8323d65",
   "metadata": {},
   "source": [
    "In this chapter, we'll cover the Akaike Information Criterion (AIC) and Bayesian Information Criterion (BIC) for nested models, as well as the bootstrap method for confidence intervals. "
   ]
  },
  {
   "cell_type": "markdown",
   "id": "0545c351",
   "metadata": {},
   "source": [
    "## Nested Models"
   ]
  },
  {
   "cell_type": "markdown",
   "id": "a755c3f5",
   "metadata": {},
   "source": [
    "Let's say we have model A with variables $\\theta_1$, $\\theta_2$ and $\\theta_3$. Model B is nested in model A if model B contains a subset of the variables of model A, e.g. if model B has variables $\\theta_1$ and $\\theta_3$. We call model B a $\\textbf{nested model}$. \n",
    "Model B is $\\textbf{not}$ a nested model if it contains a variable that model A doesn't contain, e.g. if model B has variables $\\theta_1$, $\\theta_3$ and $\\theta_4$. \n",
    "\n",
    "[overgang van nested models naar AIC and BIC en waarom we naar nested models kijken]\n"
   ]
  },
  {
   "cell_type": "markdown",
   "id": "f1bf12da",
   "metadata": {},
   "source": [
    "## Akaike Information Criterion (AIC)\n",
    "The Akaike Information Criterion (AIC) is an estimator of prediction error of statistical models. It is a method for evaluating how well a model fits the data it was generated from. AIC is used to compare different models and determine which model is the best fit. This best fit is the one that explains the greatest amount of variation and has the minimal amount of information loss, using the fewest amount of parameters. The equation for the AIC is as follows;\n",
    "\n",
    "<a id=\"eq:AIC\"></a>\n",
    "$$AIC = - 2\\max\\left[\\ln(L)\\right] + 2p_k,\\tag{2.1}$$\n",
    "It combines the max-liklihood and the number of parameters $p_k$. The best model will give the lowest value. From [Eq. 2.1](#eq:AIC) you can see that the AIC discourages overfitting. By adding more parameters, the AIC value will increase. The goodness of the fit, determined with the max-liklihood, will help decrease the AIC score.\n",
    "\n",
    "**Note**: The AIC gives a qualitative comparison between models, it *does not* say anything about the quality of the models themself. So after selecting a model with the AIC, you need to validate the quality of the model. This can be done for instance by checking the models residuals.\n",
    "\n",
    "### Simple usage of AIC values\n",
    "Let $\\mathrm{AIC}_{min}$ be the minimal AIC value. The following expression can be used to compare different AIC scores ($\\mathrm{AIC}_{i}$) with $\\mathrm{AIC}_{min}$.\n",
    "<a id=\"eq:AIC comparison\"></a>\n",
    "$$c = e^{\\frac{\\mathrm{AIC}_{min} - \\mathrm{AIC}_{i}}{2}},\\tag{2.2}$$\n",
    "This quantity $c$ is proportional to the probability of that the model $\\mathrm{AIC}_{i}$ minimizes the information loss.\n",
    "Say you have three models with the following values: $\\mathrm{AIC}_1 = 101$, $\\mathrm{AIC}_2 = 104$ and $\\mathrm{AIC}_3 = 111$. \n",
    "\\begin{equation}\n",
    "c = \n",
    "\\begin{cases}\n",
    "e^{\\frac{101 - 104}{2}} \\approx 0.223 \\\\\n",
    "e^{\\frac{101 - 111}{2}} \\approx 0.007\\\\\n",
    "\\end{cases}\n",
    "\\end{equation}\n",
    "This means that model 2 is 0.223 times and model 3 is 0.007 times as probable as model 1 to minimize the information loss.\n"
   ]
  },
  {
   "cell_type": "markdown",
   "id": "e0110127-378a-473b-a39d-e303dd9cc40e",
   "metadata": {},
   "source": [
    "## Bayesian Information Criterion (BIC)\n"
   ]
  },
  {
   "cell_type": "markdown",
   "id": "a095843e",
   "metadata": {},
   "source": [
    "\n"
   ]
  },
  {
   "cell_type": "markdown",
   "id": "bf65de41",
   "metadata": {},
   "source": [
    "## Bootstrap and confidence intervals"
   ]
  },
  {
   "cell_type": "markdown",
   "id": "d0f379ed",
   "metadata": {},
   "source": [
    "The bootstrap technique is used to estimate a confidence interval for a parameter which inherently does not have a confidence interval. First we need to understand what a confidence interval is. \n",
    "\n",
    "Confidence intervals\n",
    "\n",
    "It is a way to easily say some value can be found with a certain confidence within an interval. For example, you want to find your parameter $\\theta$ with 95% confidence. It would not suffice to find some value $\\theta$ within your data and say that you are 95% confident that the found $\\theta$ is the actual $\\theta$. You need to found the boundary or the interval in which you find the $\\theta$ 95% of the time. Thus eventually founding ($\\theta_{lower}$, $\\theta_{higher}$), now you have expressed an interval in which you can say a found $\\theta$ resides 95% of the time.\n"
   ]
  },
  {
   "cell_type": "markdown",
   "id": "758974cc",
   "metadata": {},
   "source": []
  }
 ],
 "metadata": {
  "kernelspec": {
   "display_name": "Python 3 (ipykernel)",
   "language": "python",
   "name": "python3"
  },
  "language_info": {
   "codemirror_mode": {
    "name": "ipython",
    "version": 3
   },
   "file_extension": ".py",
   "mimetype": "text/x-python",
   "name": "python",
   "nbconvert_exporter": "python",
   "pygments_lexer": "ipython3",
   "version": "3.9.19"
  }
 },
 "nbformat": 4,
 "nbformat_minor": 5
}
