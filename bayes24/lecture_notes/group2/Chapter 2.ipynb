{
 "cells": [
  {
   "cell_type": "markdown",
   "id": "60829496",
   "metadata": {},
   "source": [
    "# Chapter 2: Information Criterions and Bootstrap Confidence Intervals"
   ]
  },
  {
   "cell_type": "markdown",
   "id": "e8323d65",
   "metadata": {},
   "source": [
    "In this chapter, we'll cover the Akaike Information Criterion (AIC) and Bayesian Information Criterion (BIC) for nested models, as well as the bootstrap method for confidence intervals. "
   ]
  },
  {
   "cell_type": "markdown",
   "id": "0545c351",
   "metadata": {},
   "source": [
    "## Nested Models"
   ]
  },
  {
   "cell_type": "markdown",
   "id": "a755c3f5",
   "metadata": {},
   "source": [
    "Let's say we have model A with variables $\\theta_1$, $\\theta_2$ and $\\theta_3$. Model B is nested in model A if model B contains a subset of the variables of model A, e.g. if model B has variables $\\theta_1$ and $\\theta_3$. We call model B a $\\textbf{nested model}$. \n",
    "Model B is $\\textbf{not}$ a nested model if it contains a variable that model A doesn't contain, e.g. if model B has variables $\\theta_1$, $\\theta_3$ and $\\theta_4$. \n",
    "\n",
    "[overgang van nested models naar AIC and BIC en waarom we naar nested models kijken]\n"
   ]
  },
  {
   "cell_type": "markdown",
   "id": "f1bf12da",
   "metadata": {},
   "source": [
    "## Akaike Information Criterion (AIC)"
   ]
  },
  {
   "cell_type": "markdown",
   "id": "21d815e6",
   "metadata": {},
   "source": [
    "## Bayesian Information Criterion (BIC)\n"
   ]
  },
  {
   "cell_type": "markdown",
   "id": "a095843e",
   "metadata": {},
   "source": [
    "tekst voor AIC en BIC\n",
    "\n",
    "Zo krijg je een formule in de tekst\n",
    "$AIC = 2*2=4$\n",
    "\n",
    "Zo krijg je een formule in het midden. De tag is voor de nummering.\n",
    "<a id=\"eq:AIC\"></a>\n",
    "$$AIC = 2k -\\ln(L),\\tag{1}$$\n",
    "De unit boven [Eq. 1](#eq:AIC) maakt het mogelijk om er zo naar te refereren.\n",
    "\n"
   ]
  },
  {
   "cell_type": "markdown",
   "id": "bf65de41",
   "metadata": {},
   "source": [
    "## Bootstrap"
   ]
  },
  {
   "cell_type": "markdown",
   "id": "d0f379ed",
   "metadata": {},
   "source": [
    "tekst voor bootstrap voor testen hihi"
   ]
  }
 ],
 "metadata": {
  "kernelspec": {
   "display_name": "Python 3 (ipykernel)",
   "language": "python",
   "name": "python3"
  },
  "language_info": {
   "codemirror_mode": {
    "name": "ipython",
    "version": 3
   },
   "file_extension": ".py",
   "mimetype": "text/x-python",
   "name": "python",
   "nbconvert_exporter": "python",
   "pygments_lexer": "ipython3",
   "version": "3.9.19"
  }
 },
 "nbformat": 4,
 "nbformat_minor": 5
}
