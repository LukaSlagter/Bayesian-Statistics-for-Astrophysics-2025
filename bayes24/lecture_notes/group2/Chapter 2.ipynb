{
 "cells": [
  {
   "cell_type": "markdown",
   "id": "60829496",
   "metadata": {},
   "source": [
    "# Chapter 2: Information Criterions and Bootstrap Confidence Intervals"
   ]
  },
  {
   "cell_type": "markdown",
   "id": "e8323d65",
   "metadata": {},
   "source": [
    "In this chapter, we'll cover the Akaike Information Criterion (AIC) and Bayesian Information Criterion (BIC) for nested models, as well as the bootstrap method for confidence intervals. "
   ]
  },
  {
   "cell_type": "markdown",
   "id": "0545c351",
   "metadata": {},
   "source": [
    "## Nested Models"
   ]
  },
  {
   "cell_type": "markdown",
   "id": "a755c3f5",
   "metadata": {},
   "source": [
    "Let's say we have model A with variables $\\theta_1$, $\\theta_2$ and $\\theta_3$. Model B is nested in model A if model B contains a subset of the variables of model A, e.g. if model B has variables $\\theta_1$ and $\\theta_3$. We call model B a $\\textbf{nested model}$. \n",
    "Model B is $\\textbf{not}$ a nested model if it contains a variable that model A doesn't contain, e.g. if model B has variables $\\theta_1$, $\\theta_3$ and $\\theta_4$. \n",
    "\n",
    "Model A can be seen as the true model which describes the data. When researching, you don't know the true model, but you can construct a model B which is a nested model of model A. In order to check if model B doesn't include unnecessary parameters and that the model isn't overfitting the data, the Akaike Information Criterion and the Bayesian Information Criterion can be used.  \n"
   ]
  },
  {
   "cell_type": "markdown",
   "id": "f1bf12da",
   "metadata": {},
   "source": [
    "## Akaike Information Criterion (AIC)\n",
    "The Akaike Information Criterion (AIC) is an estimator of prediction error of statistical models. It is a method for evaluating how well a model fits the data it was generated from. AIC is used to compare different models and determine which model is the best fit. This best fit is the one that explains the greatest amount of variation and has the minimal amount of information loss, using the fewest amount of parameters. The equation for the AIC is as follows;\n",
    "\n",
    "<a id=\"eq:AIC\"></a>\n",
    "$$AIC = - 2\\ln(\\hat{L}) + 2p_k .\\tag{2.1}$$\n",
    "It combines the maximum likelihood $\\hat{L}$ and the number of parameters $p_k$. The best model will give the lowest value. From [Eq. 2.1](#eq:AIC) you can see that the AIC discourages overfitting. By adding more parameters, the AIC value will increase. The goodness of the fit, determined with the max-likelihood, will help decrease the AIC score.\n",
    "\n",
    "**Note**: The AIC gives a qualitative comparison between models, it *does not* say anything about the quality of the models themself. So after selecting a model with the AIC, you need to validate the quality of the model. This can be done for instance by checking the models residuals.\n",
    "\n",
    "### Simple usage of AIC values\n",
    "Let $\\mathrm{AIC}_{min}$ be the minimal AIC value. The following expression can be used to compare different AIC scores ($\\mathrm{AIC}_{i}$) with $\\mathrm{AIC}_{min}$.\n",
    "<a id=\"eq:AIC comparison\"></a>\n",
    "$$c = e^{\\frac{\\mathrm{AIC}_{min} - \\mathrm{AIC}_{i}}{2}},\\tag{2.2}$$\n",
    "This quantity $c$ is proportional to the probability of that the model $\\mathrm{AIC}_{i}$ minimizes the information loss.\n",
    "Say you have three models with the following values: $\\mathrm{AIC}_1 = 101$, $\\mathrm{AIC}_2 = 104$ and $\\mathrm{AIC}_3 = 111$.\n",
    "\n",
    "[//]: # \"'vo!!!!!!!\"\n",
    "\\begin{equation}\n",
    "c = \n",
    "\\begin{cases}\n",
    "e^{\\frac{101 - 104}{2}} \\approx 0.223 \\\\\n",
    "e^{\\frac{101 - 111}{2}} \\approx 0.007\\\\\n",
    "\\end{cases}\n",
    "\\end{equation}\n",
    "This means that model 2 is 0.223 times and model 3 is 0.007 times as probable as model 1 to minimize the information loss. Depending on the selection criteria, model 3 can probably be rejected. The quantity $c$ is known as the relative likelihood of model $i$ and it is closely related to the likelihood ratio used in the likelihood-ratio test.\n",
    "\n",
    "### In depth usage of AIC values\n",
    "The above example is made to give a more instinctual meaning what different AIC values mean. Below is an example how the AIC is used for a specific model. In the example we'll use the definition of the maximum likelihood as defined in [Chapter 1](https://github.com/t-kist/Bayesian-Statistics-for-Astrophysics-2024/blob/main/bayes24/lecture_notes/group1/Chapter%201.ipynb). The following Gaussian probability density function used:\n",
    "\n",
    "$$f(x) = \\frac{1}{\\sqrt{2\\pi}\\sigma}e^{-\\frac{1}{2}\\left(\\frac{x-\\mu}{\\sigma}\\right)^2}$$\n",
    "\n"
   ]
  },
  {
   "cell_type": "code",
   "execution_count": 3,
   "id": "9315d374-7944-4fb9-9753-6a97b1bb09f0",
   "metadata": {},
   "outputs": [],
   "source": [
    "import numpy as np\n",
    "from scipy.stats import norm\n",
    "\n",
    "# def gaussian(x, mean, std):\n",
    "#     f = 1/(std*np.sqrt(2*np.pi))*np.exp(-0.5*((x-mean)/std)**2)\n",
    "#     return f\n",
    "\n",
    "# def gaussian2(x, mean, std1, std2):\n",
    "#     f = 1/((std1+std2)*np.sqrt(2*np.pi))*np.exp(-0.5*((x-mean)/(std1+std2)**2)\n",
    "#     return f\n",
    "                                                \n",
    "def AIC(L, p_k):\n",
    "    aic = -2*np.log(L) + 2*p_k\n",
    "    return aic\n",
    "\n",
    "\n"
   ]
  },
  {
   "cell_type": "markdown",
   "id": "e0110127-378a-473b-a39d-e303dd9cc40e",
   "metadata": {},
   "source": [
    "## Bayesian Information Criterion (BIC)\n"
   ]
  },
  {
   "cell_type": "markdown",
   "id": "a095843e",
   "metadata": {},
   "source": [
    "The Bayesian Information Criterion (BIC) is another statistical measure used to evaluate how good of a fit a model is. As with the AIC, both unexplained variation and a higher number of variables increase the BIC value. However, in addition to the penalty for the number of parameters in the AIC, the BIC also penalises for the amount of data points n. The equation for the BIC is as follows:\n",
    "\n",
    "$$ BIC = -2\\ln(\\hat{L}) + \\ln(n)p_k $$\n",
    "\n",
    "where $\\hat{L}$ is the maximum likelihood, n is the number of data points and $p_k$ is the number of parameters.\n",
    "\n",
    "\n",
    "One of the advantages of using the Bayesian Information Criterion is that it's fairly simple and therefore easy to compute. Its penalty for the amount of parameters also helps preventing overfitting and using the BIC to compare models is very straightforward in general.\n",
    "Of course, the BIC also has its disadvantages. One important limitation to the BIC is that n has to be much larger than k for the expression to be valid. It also relies on assuming that the true model is one of the candidate models, and the same penalty for the number of parameters that helps prevent overfitting might also lead to oversimplification.\n",
    "\n",
    "Let's see a simple example of using the Bayesian Information Criterion below. We'll compare some model A and B for a dataset of 600 data point and we assume the maximum likelihood is 0.5 for model A and 0.3 for model B. Furthermore, model A uses 3 parameters while model B uses 4.\n",
    "$$\n",
    "\\begin{cases}\n",
    "    \\text{BIC}_A = -2\\ln{0.5} + \\ln(600) * 3 \\approx 20.6\\\\\n",
    "    \\text{BIC}_B = -2\\ln{0.3} + \\ln(600) * 4 \\approx 28.0\n",
    "\\end{cases}\n",
    "$$\n",
    "\n",
    "Since we want to minimalise the BIC value, the model with the lowest BIC (model A in the example) is assumed to be a better model than the one with a higher BIC. A little disclaimer: this does not necessarily mean that the model with the lowest BIC is a good fitting model objectively, it just means it explains the data better than the other model did. \n",
    "\n",
    "In the example above, we just assumed that the maximum likelihoods were equal to certain numbers, but normally you would need to calculate the likelihood yourself. [Chapter 1](https://github.com/t-kist/Bayesian-Statistics-for-Astrophysics-2024/blob/main/bayes24/lecture_notes/group1/Chapter%201.ipynb) contains more information about calculating the maximum likelihood. "
   ]
  },
  {
   "cell_type": "markdown",
   "id": "4d23bdfb",
   "metadata": {},
   "source": [
    "## AIC vs BIC "
   ]
  },
  {
   "cell_type": "markdown",
   "id": "867194e0",
   "metadata": {},
   "source": [
    "Though the Akaike Information Criterion and the Bayesian Information Criterion are pretty similar, they also have their differences. As mentioned above, the AIC assumes the true model isn't among the tested models, while the BIC assumes the true model $\\textit{is}$ among the tested models. Furthermore, the BIC penalises the complexity of the models more than the AIC does. Both of these differences lead towards the following; When $n \\rightarrow \\infty$ and $p_k < \\sqrt{n}$:\n",
    "\n",
    "+ AIC selects the best predictive model among a number of possibly misspecified models.\n",
    "+ BIC selects the true model (with minimal number of necessary parameters) if it is included in the candidate set.\n",
    "\n",
    "[not done yet <3]\n",
    "\n",
    "The example below shows the AIC plotted against the BIC. [conclusies ]"
   ]
  },
  {
   "cell_type": "code",
   "execution_count": 4,
   "id": "c9fc5027",
   "metadata": {},
   "outputs": [
    {
     "data": {
      "image/png": "[encoded data removed]",
      "text/plain": [
       "<Figure size 640x480 with 1 Axes>"
      ]
     },
     "metadata": {},
     "output_type": "display_data"
    }
   ],
   "source": [
    "import numpy as np\n",
    "import matplotlib.pyplot as plt\n",
    "\n",
    "# Variables\n",
    "n_datapoints = 101\n",
    "# Likelihood\n",
    "\n",
    "# Array of number of parameters\n",
    "param = np.linspace(1, 20, 21)\n",
    "\n",
    "# Define the functions\n",
    "def AIC(L_max, p_k):\n",
    "    aic =  -2 * np.log(L_max) + 2*p_k\n",
    "    return aic\n",
    "\n",
    "def BIC(L_max, p_k, n):\n",
    "   bic = -2 * np.log(L_max) + np.log(n)*p_k\n",
    "   return bic\n",
    "\n",
    "plt.figure()\n",
    "# plt.plot(param, AIC(Likelihood, param))\n",
    "# plt.plot(param, BIC(Likelihood, param, n_datapoints))\n",
    "plt.xlabel(\"Number of parameters\")\n",
    "plt.ylabel(\"Value\")\n",
    "plt.show()"
   ]
  },
  {
   "cell_type": "code",
   "execution_count": 16,
   "id": "be5a2797-814b-45d0-9bba-a99396e2b8d0",
   "metadata": {},
   "outputs": [
    {
     "data": {
      "image/png": "[encoded data removed]",
      "text/plain": [
       "<Figure size 640x480 with 1 Axes>"
      ]
     },
     "metadata": {},
     "output_type": "display_data"
    }
   ],
   "source": [
    "import numpy as np\n",
    "import scipy.stats\n",
    "from scipy.optimize import curve_fit\n",
    "import matplotlib.pyplot as plt\n",
    "\n",
    "\"\"\"First we define the true model, of which the data will be generated\"\"\"\n",
    "np.random.seed(10)\n",
    "\n",
    "a_true = 6\n",
    "b_true = 3\n",
    "c_true = 101\n",
    "\n",
    "xmin = 0\n",
    "xmax = 10\n",
    "\n",
    "def true_model(x, a=a_true, b=b_true, c=c_true):\n",
    "    return a + b*x + c*x**2\n",
    "\n",
    "def sim_data(x, uncertainty=0.2):\n",
    "    # find the model prediction\n",
    "    y_true = model(x)\n",
    "    \n",
    "    # find the true uncertainty on the observations\n",
    "    y_unc_true = np.abs(y_true)*uncertainty\n",
    "    \n",
    "    # generate data for a normal distribution\n",
    "    y_sample = np.random.normal(y_true, y_unc_true, size=len(x))\n",
    "    \n",
    "    return y_sample, y_unc_true\n",
    "\n",
    "model = true_model\n",
    "npoints = 100\n",
    "# plot the simulation results\n",
    "xx = np.linspace(xmin, xmax, npoints)\n",
    "data_example = sim_data(xx)\n",
    "\n",
    "plt.clf()\n",
    "plt.plot(xx, model(xx, a_true, b_true), label=\"true model\")\n",
    "plt.errorbar(xx, data_example[0],data_example[1], fmt='s', label='simulated data', color='#077770')\n",
    "plt.legend()\n",
    "plt.yscale('log')\n",
    "plt.xscale('log')\n",
    "\n",
    "        \n",
    "N_sim = 5000\n",
    "x = np.linspace(xmin, xmax, npoints)\n",
    "\n",
    "chi = []\n",
    "for t in range(N_sim):\n",
    "    yy, y_err = sim_data(x)\n",
    "\n",
    "    popt, pcov = curve_fit(model, xx, yy, absolute_sigma = False)\n",
    "    chi_sq = np.sum(((model(xx, *popt)-yy)*2)/y_err)\n",
    "    chi.append(chi_sq)\n",
    "    \n",
    "max_L = np.max(chi)\n",
    "# print(max_L)\n",
    "\n",
    "# Define the functions\n",
    "def AIC(L_max, p_k):\n",
    "    aic =  -2 * np.log(L_max) + 2*p_k\n",
    "    return aic\n",
    "\n",
    "def BIC(L_max, p_k, n):\n",
    "   bic = -2 * np.log(L_max) + np.log(n)*p_k\n",
    "   return bic\n",
    "\n",
    "from inspect import signature\n",
    "sig = signature(model)\n",
    "n_params = len(sig.parameters) - 1\n",
    "\n",
    "def poly_model(x, *p):\n",
    "\t'''\n",
    "\tpolynomial of degree len(p)\n",
    "\t'''\n",
    "\treturn  np.polyval(p, x)\n",
    "\n",
    "def chisquared(model, y, y_err):\n",
    "    chi = np.sum(((model-y)**2)/y_err)\n",
    "    return chi\n",
    "\n",
    "#Hoeveelheid parameters gevonden. Nu voor AIC BIC berekenen. Daarna algemeniseren voor verschillende functies as modellen.\n",
    "#Misschien iets van een functie waarmee je automatisch hogere ordes polynomen kan genereren.\\n\n"
   ]
  },
  {
   "cell_type": "code",
   "execution_count": 37,
   "id": "bdc21406-b9e5-43df-a527-550ef9c94e11",
   "metadata": {},
   "outputs": [
    {
     "name": "stdout",
     "output_type": "stream",
     "text": [
      "[ 1  2  3  4  5  6  7  8  9 10]\n"
     ]
    },
    {
     "data": {
      "image/png": "[encoded data removed]",
      "text/plain": [
       "<Figure size 640x480 with 1 Axes>"
      ]
     },
     "metadata": {},
     "output_type": "display_data"
    }
   ],
   "source": [
    "max_params = 10\n",
    "params = np.arange(1, max_params+1, 1)\n",
    "print(params)\n",
    "yy, y_err = data_example[0], data_example[1]\n",
    "model=poly_model\n",
    "\n",
    "chi = []\n",
    "aic = []\n",
    "bic = []\n",
    "\n",
    "for i in params:\n",
    "    p0 = np.zeros(i)\n",
    "    popt, pcov = curve_fit(poly_model, xx, yy, p0=p0, absolute_sigma = False)\n",
    "    chi_sq = chisquared(model(xx, *popt), yy, y_err)\n",
    "    chi.append(chi_sq)\n",
    "\n",
    "    aic.append(AIC(chi_sq, len(popt)))\n",
    "    bic.append(BIC(chi_sq, len(popt), npoints))\n",
    "\n",
    "plt.figure()\n",
    "plt.plot(params, aic)\n",
    "plt.plot(params, bic)\n",
    "plt.show()\n",
    "\n",
    "\n",
    "\n"
   ]
  },
  {
   "cell_type": "markdown",
   "id": "bf65de41",
   "metadata": {},
   "source": [
    "## Bootstrap and confidence intervals"
   ]
  },
  {
   "cell_type": "markdown",
   "id": "d0f379ed",
   "metadata": {},
   "source": [
    "The bootstrap method is a technique used to estimate a confidence interval for a parameter which inherently does not have a confidence interval. Thus before we talk about the bootstrap method and how it works we first need to understand confidence intervals. \n",
    "\n",
    "### Confidence intervals\n",
    "\n",
    "Is a way to easily say some value can be found with a certain $\\gamma$-confidence within an interval. For example, you want to find your parameter $heta$ with $\\gamma$ = 95% confidence. It would not suffice to find some value $\\theta$ within your data and say that you are 95% confident that the found $\\theta$ is the actual $\\theta$. You need to find the boundary of the interval in which you find $\\theta$ 95% of the time. Thus eventually founding ($\\theta_{lower}$, $\\theta_{higher}$), now you have expressed an interval in which you can say a found $\\theta$ resides 95% of the time.\n",
    "\n",
    "The theorem behinds this states, and shows a way to compute it:\n",
    "\n",
    "If $\\hat{\\theta} \\approx N(\\hat{\\theta}^{*}, se[\\hat{\\theta}]^2)$ and $\\hat{se}[\\hat{\\theta}] \\rightarrow_p se[\\hat{\\theta}]$, the interval \n",
    "<a id=\"eq:CI\"></a>\n",
    "$$(\\hat{\\theta}_l, \\hat{\\theta}_u) = (\\hat{\\theta} - z_{\\alpha/2} \\hat{se}[\\hat{\\theta}], \\hat{\\theta} + z_{\\alpha/2} \\hat{se}[\\hat{\\theta}])$$\n",
    "is an approximate $(1-\\alpha)$-confidence interval where $z_{\\alpha/2}$ are the corresponding quantile coming from $\\gamma = 1 - \\alpha$.\n",
    "\n",
    "Below an example using a normal distribution is given."
   ]
  },
  {
   "cell_type": "code",
   "execution_count": null,
   "id": "33fc9424",
   "metadata": {},
   "outputs": [],
   "source": [
    "import numpy as np \n",
    "from scipy.stats import norm\n",
    "import matplotlib.pyplot as plt\n",
    "\n",
    "# Here we generate some data like a normal distribution\n",
    "mu, sigma = 2, 1\n",
    "x = np.random.normal(mu, sigma, 1000)\n",
    "x.sort()\n",
    "\n",
    "gamma = 90 #The confidence we choose\n",
    "gamma2 = 95\n",
    "\n",
    "# calculating the z value\n",
    "def z_alpha (gam):\n",
    "    alpha = 1-(gam/100)\n",
    "    z = norm.ppf(1-(alpha/2))\n",
    "    return z\n",
    "\n",
    "z = z_alpha(gamma)\n",
    "z2 = z_alpha(gamma2)\n",
    "\n",
    "lower1 = mu - z*sigma\n",
    "upper1 = mu + z*sigma\n",
    "\n",
    "lower2 = mu - z2*sigma\n",
    "upper2 = mu + z2*sigma\n",
    "\n",
    "\n",
    "print(f\"The actual confidence interval would be ({lower1.round(2)}, {upper1.round(2)}) for a gamma of {gamma}%\")\n",
    "print(f\"The actual confidence interval would be ({lower2.round(2)}, {upper2.round(2)}) for a gamma of {gamma2}%\")\n",
    "\n",
    "plt.title(\"Example of a confidence interval using normal distribution\")\n",
    "plt.hist(x, 30, density=True, color=\"royalblue\")\n",
    "plt.plot(x, 1/(sigma * np.sqrt(2 * np.pi)) * np.exp( -1 * (x - mu)**2 / (2 * sigma**2) ),linewidth=2, color='darkorange')\n",
    "plt.axvline(lower1, color = 'limegreen', linestyle=\"--\", label=f\"Lower limit {gamma}%\")\n",
    "plt.axvline(upper1, color = 'limegreen', linestyle=\"--\", label=f\"Upper limit {gamma}%\")\n",
    "plt.axvline(lower2, color=\"violet\", linestyle=\"--\", label=f\"Lower limit {gamma2}%\")\n",
    "plt.axvline(upper2, color=\"violet\", linestyle=\"--\", label=f\"Upper limit {gamma2}%\")\n",
    "plt.legend()\n",
    "plt.show()"
   ]
  },
  {
   "cell_type": "markdown",
   "id": "1c3b0be4",
   "metadata": {},
   "source": [
    "As you can see from the example, the larger the $\\gamma$ the larger the area in which you can find your parameter"
   ]
  },
  {
   "cell_type": "markdown",
   "id": "74fadb0d",
   "metadata": {},
   "source": [
    "### Bootstrap method"
   ]
  },
  {
   "cell_type": "markdown",
   "id": "58702acf",
   "metadata": {},
   "source": [
    "Suppose you have a dataset with a large number of entries and you want to use bayesian statistics to further develop a posterior likelihood. You need to have some distribution of your parameter which you can use later on, but you only have one dataset and thus one way to compute the parameter. The bootstrap method provides a way to develop a confidence interval for this parameter. It creates a new dataset from the original one with replacement, we do this by randomly selecting an entry from the dataset and putting it in our new dataset. In this way the new dataset is build up by a population of the original dataset. This way of using the bootstrap method is also know as the nonparametric bootstrap. The counterpart is the parametric bootstrap, here we use the most likely parameter estimates from the original dataset to construct a new dataset. From there we find a most likely parameter and return this value. This fails if the original dataset is misspecified and the nonparametric bootstrap essentially always works!\n",
    "\n",
    " The bootstrap algorithm works as follows:\n",
    "\n",
    "- Step 1: Simulate $B \\in \\mathbb{N}$ independent datasets $X_{1,b}, ..., X_{n,b}$ from F, for $b = 1, ..., N$. Thus simulating $B$ bootstrap samples.\n",
    "- Step 2: For each $b$, compute the parameter $\\hat{\\theta_b}$\n",
    "- Step 3: Define your $\\gamma$-confidence interval with $\\hat{q}_{\\alpha/2}$ and $\\hat{q}_{\\alpha/2}$ for each parameter $\\hat{\\theta_1}, ..., \\hat{\\theta_B}$\n",
    "- Step 4: Define your confidence intervals\n",
    "<a id=\"eq:upper_lower\"></a>\n",
    "$$(\\hat{\\theta}_l, \\hat{\\theta}_u) = (\\hat{q}_{\\alpha/2}, \\hat{q}_{1-\\alpha/2})$$\n",
    "\n",
    " \n",
    "The next question we need to considere is the amount of bootstrap samples we need to use, thus how large does $B$ need to be to get the quantile estimates $\\hat{q}_{\\alpha/2},\\hat{q}_{1-\\alpha/2}$ to be stable. From multiple sources you can gather that finding an exact bootstrap sample size is not an exact science. Many say that 10.000 is a safe bet and thus this size. While many sources also mention that a sample size of 10.000 is also a very intense workload so for a quick test a sample size of 500 is all you need. The question thus is is how good you want your resolution to be, for a quick look into the confidence interval a sample of size of 500 is great and for an exact interval a sample size of 10.000 is recommend given your system can handle it. "
   ]
  },
  {
   "cell_type": "markdown",
   "id": "db0e53db",
   "metadata": {},
   "source": []
  },
  {
   "cell_type": "code",
   "execution_count": null,
   "id": "de8b22e2",
   "metadata": {},
   "outputs": [],
   "source": [
    "from scipy.optimize import curve_fit\n",
    "import random\n",
    "\n",
    "# Bootstrap exercise with sin(ax) as example\n",
    "a_true = 4\n",
    "b_true = 3\n",
    "\n",
    "x_min = 0\n",
    "x_max = 10\n",
    "N = 100\n",
    "x = np.linspace(x_min, x_max, N)\n",
    "\n",
    "def linear(x, a, b):\n",
    "    return a*x + b\n",
    "\n",
    "def sim_data(x, fractional_uncertainty=0.2):\n",
    "\n",
    "\t# find the model prediction\n",
    "\ty_true = linear(x, a_true, b_true)\n",
    "\n",
    "\t# find the true uncertainty on the observations\n",
    "\ty_unc_true = np.abs(y_true)*fractional_uncertainty\n",
    "\n",
    "\t# generate data for a normal distribution\n",
    "\ty_sample = np.random.normal(y_true, y_unc_true, size=len(x))\n",
    "\n",
    "\treturn y_sample, y_unc_true\n",
    "\n",
    "y_samp, y_unc = sim_data(x)\n",
    "\n",
    "bootstrap_samples = 500\n",
    "\n",
    "a_s = []\n",
    "for i in range(bootstrap_samples):\n",
    "    x_data = []\n",
    "    y_data = []\n",
    "    for i in range(N):\n",
    "        temp = random.randint(0, (N-1))\n",
    "        x_data.append(x[temp])\n",
    "        y_data.append(y_samp[temp])\n",
    "    popt, pcov = curve_fit(linear, x_data, y_data, absolute_sigma=True, maxfev=800)\n",
    "    a_s.append(popt[0])\n",
    "\n",
    "# In our variable a_s we have a distribution of a's found by the bootstrap model.\n",
    "# Now we need to determine our gamma-confidence \n",
    "\n",
    "gamma = 95\n",
    "\n",
    "z = z_alpha(gamma)\n",
    "\n",
    "mean_a = np.mean(a_s)\n",
    "std_a = np.std(a_s)\n",
    "\n",
    "lower = mean_a - z*std_a\n",
    "higher = mean_a + z*std_a\n",
    "# Now that we have the confidence interval, all we need to do is plot it\n",
    "\n",
    "plt.hist(a_s, bins = 20, density=True)\n",
    "plt.axvline(lower, color=\"violet\", linestyle=\"--\", label=f\"Lower limit {gamma}%\")\n",
    "plt.axvline(higher, color=\"violet\", linestyle=\"--\", label=f\"Upper limit {gamma}%\")\n",
    "plt.title(f\"Confidence interval for a with ({lower.round(2)}, {higher.round(2)}) around {np.round(mean_a)}\")\n",
    "plt.ylabel(\"Relative counts\")\n",
    "plt.xlabel(\"values of a found\")\n",
    "plt.show()\n"
   ]
  }
 ],
 "metadata": {
  "kernelspec": {
   "display_name": "Python 3 (ipykernel)",
   "language": "python",
   "name": "python3"
  },
  "language_info": {
   "codemirror_mode": {
    "name": "ipython",
    "version": 3
   },
   "file_extension": ".py",
   "mimetype": "text/x-python",
   "name": "python",
   "nbconvert_exporter": "python",
   "pygments_lexer": "ipython3",
   "version": "3.9.19"
  }
 },
 "nbformat": 4,
 "nbformat_minor": 5
}
