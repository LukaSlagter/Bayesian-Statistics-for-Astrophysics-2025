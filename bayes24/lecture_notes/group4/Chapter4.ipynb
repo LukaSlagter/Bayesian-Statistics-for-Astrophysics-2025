{
 "cells": [
  {
   "metadata": {},
   "cell_type": "markdown",
   "source": [
    "# Chapter 4: Bayesian inference\n",
    "## The steps of Bayesian inference\n",
    "To make inferences ('conclusions reached on the basis of evidence and reasoning') about a hypothesis or unknown parameters, Bayesian inference can be used. Bayesian inference is the method of statistical inference, that uses Bayes theorem, to update the probability estimate about the hypothesis or unknown parameters. This process follows three steps:\n",
    "\n",
    "### Step 1: Choose a prior \n",
    "This first step of Bayesian inference requires choosing a so called **prior** (or prior probability distribution/density). The prior represents the initial belief about the hypothesis or the possible values of the parameters before observing the **data y**. Imagine if we want to predict the weather for tomorrow, our prior can consist of the weather's data from the last few days. During this chapter, we will give the priors needed for examples. In [**Chapter 5**](https://bayesian-statistics-for-astrophysics-2024.readthedocs.io/en/latest/lecture_notes/group5/group5.html#) more information about priors; how to choose them and how to use them in an analytical manner will be explained. \n",
    "\n",
    "This prior is defined as **f(** $\\theta$ **| x)**. Here $\\theta$ is the unknown parameter we want to make inferences about and **x** is data given a different hypothesis and parameter values. \n",
    "\n",
    "### Step 2: Choose a statistical model\n",
    "We need to choose a generative model about the observed data given the data x. This model is then defined by y $\\sim$ f ( $\\theta$ , x). By doing this, we determine the **likelihood: f (y |** $\\theta$ **, x)**. In our example of determining the weather for tomorrow, we can see the likelihood like this: If it's cloudy today, the likelihood would quantify how much this piece of evidence supports or contradicts our prior belief about the weather. \n",
    "\n",
    "### Step 3: Calculate the posterior density\n",
    "The final step of Bayesian inference consists of updating the prior of step 1 by using the found likelihood in step 2. By combining the prior and likelihood, we obtain the **posterior density**. The posterior density is defined as: Posterior $\\propto$ Prior x Likelihood. Or written in the prior (f ( $\\theta$ | x)) and likelihood (f (y | $\\theta$ , x )) we determined in respectively **steps 1 & 2**:\n",
    "\n",
    "f ( $\\theta$ | y , x) $\\propto$ f ( $\\theta$ ) x f (y | $\\theta$ , x) \n",
    "\n",
    "We can calculate the posterior f ( $\\theta$ | y , x) by applying **Bayes theorem**, which we defined in [**Chapter 3**](https://bayesian-statistics-for-astrophysics-2024.readthedocs.io/en/latest/lecture_notes/group3/chapter3.html) as P(A | B) = $\\frac{P ( B | A ) P ( A )}{P ( B )}$."
   ],
   "id": "8a629051e5137f99"
  },
  {
   "metadata": {},
   "cell_type": "markdown",
   "source": [
    "## Visual example\n",
    "Imagine a doctor wants to diagnose a patient for a rare disease. A research found that 1 out of 1000 people have this disease (so 0.1% of the population). \n",
    "The doctor created a test to find out if his patient has the disease. It is determined that the test is 99% accurate if the patient has the disease and gives out a false positive 5% of the times. After testing the patient, the test gives a positive result (this is the data y that we can observe). Now it is up to us to determine the probability of the patient actually having the disease. \n",
    "\n",
    "By using Bayesian inference, we can update our prior estimate that the probability of the patient having the disease is 0.1%. We do this by using the given data x about the test to create a likelihood. With this prior and the found likelihood, we can then determine the posterior and posterior probability using Bayes Theorem. See how this is done in the code below. Try to see if you understand the steps we take!"
   ],
   "id": "9137290b9c2ee779"
  },
  {
   "metadata": {
    "ExecuteTime": {
     "end_time": "2024-11-23T13:27:51.815948Z",
     "start_time": "2024-11-23T13:27:51.803049Z"
    }
   },
   "cell_type": "code",
   "source": [
    "#-------------------------------------------------------------------------------------------------------------------------------------------------\n",
    "import numpy as np\n",
    "\n",
    "# Step 1: Prior\n",
    "Prior_Disease = 0.001 # The probability for the patient having the disease is 0.1%. (P(Disease) = 0.001)\n",
    "Prior_NoDisease = 1-Prior_Disease # The probability for the patient not having the disease is 99.9%. (P(No Disease) = 0.999)\n",
    "\n",
    "# Step 2: Model and likelihood\n",
    "Positive_Disease = 0.99 # The probability that if you test positive, you have the disease is 99%. (P(Positive|Disease) = 0.99)\n",
    "Positive_NoDisease = 0.05 # The probability that if you test positive, you don't have the disease (false positive) is 5%. (P(Positive|No Disease) = 0.05)\n",
    "Positive = (Positive_Disease * Prior_Disease) + (Positive_NoDisease * Prior_NoDisease) # The probability of having a positive test.\n",
    "\n",
    "# Step 3: Posterior probability\n",
    "# Computing this by using Bayes' theorem : P(Disease|Positive) = (P(Positive|Disease)*P(Disease)) / P(Positive)\n",
    "Disease_Positive = (Positive_Disease*Prior_Disease)/Positive # The probability that you have the disease if you test positive.\n",
    "\n",
    "# This gives us the following result:\n",
    "print(\"The posterior probability of the patient having the disease if they test positive is\", (np.round(Disease_Positive,4))*100,\n",
    "      \"%, while initially the chances of the patient having the disease was\", (np.round(Prior_Disease,3))*100,\"%.\")\n",
    "#--------------------------------------------------------------------------------------------------------------------------------------------------"
   ],
   "id": "dae1bcd050f654e7",
   "outputs": [
    {
     "name": "stdout",
     "output_type": "stream",
     "text": [
      "The posterior probability of the patient having the disease if they test positive is 1.94 %, while initially the chances of the patient having the disease was 0.1 %.\n"
     ]
    }
   ],
   "execution_count": 33
  },
  {
   "metadata": {},
   "cell_type": "markdown",
   "source": "This is ofcourse a very small probability. If this feels weird, just remember that the chances of having the disease are small and that the false positivity of the test impacts the probability significantly as well. Also check for yourself if you can spot all the variables we introduced in the explanation above and if you understand why each of the steps are taken. If you feel comfortable with this example, then it is time to get astrophysical! ",
   "id": "195dddeae2ff0e14"
  },
  {
   "metadata": {
    "ExecuteTime": {
     "end_time": "2024-11-23T13:27:51.900078Z",
     "start_time": "2024-11-23T13:27:51.881451Z"
    }
   },
   "cell_type": "code",
   "source": "",
   "id": "9be5e95a5ea5abd",
   "outputs": [],
   "execution_count": null
  }
 ],
 "metadata": {
  "kernelspec": {
   "name": "python3",
   "language": "python",
   "display_name": "Python 3 (ipykernel)"
  },
  "language_info": {
   "codemirror_mode": {
    "name": "ipython",
    "version": 3
   },
   "file_extension": ".py",
   "mimetype": "text/x-python",
   "name": "python",
   "nbconvert_exporter": "python",
   "pygments_lexer": "ipython3",
   "version": "3.9.19"
  }
 },
 "nbformat": 4,
 "nbformat_minor": 5
}
