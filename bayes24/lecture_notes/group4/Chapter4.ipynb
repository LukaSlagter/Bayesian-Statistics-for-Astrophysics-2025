{
 "cells": [
  {
   "metadata": {},
   "cell_type": "markdown",
   "source": [
    "# Chapter 4: Bayesian inference\n",
    "## The steps of Bayesian inference\n",
    "To make inferences ('conclusions reached on the basis of evidence and reasoning') about a hypothesis or unknown parameters, Bayesian inference can be used. Bayesian inference is the method of statistical inference, that uses Bayes theorem, to update the probability estimate about the hypothesis or unknown parameters. This process follows three steps:\n",
    "\n",
    "### Step 1: Choose a prior \n",
    "This first step of Bayesian inference requires choosing a so called **prior** (or prior probability distribution/density). The prior represents the initial belief about the hypothesis or the possible values of the parameters before observing the **data y**. Imagine if we want to predict the weather for tomorrow, our prior can consist of the weather's data from the last few days. During this chapter, we will give the priors needed for examples. In [**Chapter 5**](https://bayesian-statistics-for-astrophysics-2024.readthedocs.io/en/latest/lecture_notes/group5/group5.html#) more information about priors; how to choose them and how to use them in an analytical manner will be explained. \n",
    "\n",
    "This prior is defined as **f(** $\\theta$ **| x)**. Here $\\theta$ is the unknown parameter we want to make inferences about and **x** is data given a different hypothesis and parameter values. \n",
    "\n",
    "### Step 2: Choose a statistical model\n",
    "We need to choose a generative model about the observed data given the data x. This model is then defined by y $\\sim$ f ( $\\theta$ , x). By doing this, we determine the **likelihood: f (y |** $\\theta$ **, x)**. In our example of determining the weather for tomorrow, we can see the likelihood like this: If it's cloudy today, the likelihood would quantify how much this piece of evidence supports or contradicts our prior belief about the rain. \n",
    "\n",
    "### Step 3: Calculate the posterior density\n",
    "The final step of Bayesian inference consists of updating the prior of step 1 by using the found likelihood in step 2. By combining the prior and likelihood, we obtain the **posterior density**. The posterior density is defined as: Posterior $\\propto$ Prior x Likelihood. Or written in the prior (f ( $\\theta$ | x)) and likelihood (f (y | $\\theta$ , x )) we determined in respectively **steps 1 & 2**:\n",
    "\n",
    "f ( $\\theta$ | y , x) $\\propto$ f ( $\\theta$ ) x f (y | $\\theta$ , x) \n",
    "\n",
    "We can calculate the posterior f ( $\\theta$ | y , x) by applying **Bayes theorem**, which we defined in [**Chapter 3**](https://bayesian-statistics-for-astrophysics-2024.readthedocs.io/en/latest/lecture_notes/group3/chapter3.html) as P(A | B) = $\\frac{P ( B | A ) P ( A )}{P ( B )}$."
   ],
   "id": "8a629051e5137f99"
  },
  {
   "metadata": {},
   "cell_type": "markdown",
   "source": [
    "## Visual example\n",
    "Imagine a doctor wants to diagnose a patient for a rare disease. A research found that 1 out of 1000 people have this disease (so 0.1% of the population). \n",
    "The doctor created a test to find out if his patient has the disease. It is determined that the test is 99% accurate if the patient has the disease and gives out a false positive 5% of the times. After testing the patient, the test gives a positive result. Now it is up to us to determine the probability of the patient actually having the disease. \n",
    "\n",
    "By using Bayesian inference, we can update our prior estimate that the probability of the patient having the disease is 0.1%. We do this by using the given data (x) about the test to create a likelihood. With this prior and the found likelihood, we can then determine the posterior and posterior probability using Bayes Theorem. "
   ],
   "id": "9137290b9c2ee779"
  },
  {
   "metadata": {
    "ExecuteTime": {
     "end_time": "2024-11-19T16:50:14.410351Z",
     "start_time": "2024-11-19T16:50:14.401389Z"
    }
   },
   "cell_type": "code",
   "source": [
    "#------------------------------------------------------------------------------------------------------------------------------------------------------------------------------\n",
    "import numpy as np\n",
    "\n",
    "# Step 1: Prior\n",
    "P_Disease = 0.001 # The probability for the patient having the disease is 0.1%. (P(Disease) = 0.001)\n",
    "P_NoDisease = 1-P_Disease # The probability for the patient not having the disease is 99.9%. (P(NoDisease) = 0.999)\n",
    "\n",
    "# Step 2: Model and likelihood\n",
    "# If the patient has the disease, the test will give a positive result 99% of the time. (P(Positive|Disease) = 0.99)\n",
    "P_Pos_Disease = 0.99\n",
    "\n",
    "# If the patient does not have the disease, the test will give a false positive 5% of the time. (P(Positive|NoDisease) = 0.05)\n",
    "P_Pos_NoDisease = 0.05\n",
    "\n",
    "# Compute the probability of a positive test\n",
    "P_Pos = (P_Pos_Disease * P_Disease) + (P_Pos_NoDisease * P_NoDisease)\n",
    "\n",
    "# Step 3: Posterior probability\n",
    "# Compute this by using Bayes' theorem\n",
    "P_DiseasePos = (P_Pos_Disease*P_Disease)/P_Pos # P(Disease | Positive) = (P(Positive | Disease) *  P(Disease)) / P(Positive)\n",
    "\n",
    "# This gives us the following result:\n",
    "print(\"The posterior probability of the patient having the disease if they test positive is:\", np.round(P_DiseasePos,4))\n"
   ],
   "id": "810ef3d153774a17",
   "outputs": [
    {
     "name": "stdout",
     "output_type": "stream",
     "text": [
      "The posterior probability of the patient having the disease if they test positive is: 0.0194\n"
     ]
    }
   ],
   "execution_count": 15
  },
  {
   "metadata": {
    "ExecuteTime": {
     "end_time": "2024-11-19T16:50:14.432839Z",
     "start_time": "2024-11-19T16:50:14.429095Z"
    }
   },
   "cell_type": "code",
   "source": "",
   "id": "9bab7d6f451568da",
   "outputs": [],
   "execution_count": null
  }
 ],
 "metadata": {
  "kernelspec": {
   "name": "python3",
   "language": "python",
   "display_name": "Python 3 (ipykernel)"
  },
  "language_info": {
   "codemirror_mode": {
    "name": "ipython",
    "version": 3
   },
   "file_extension": ".py",
   "mimetype": "text/x-python",
   "name": "python",
   "nbconvert_exporter": "python",
   "pygments_lexer": "ipython3",
   "version": "3.9.19"
  }
 },
 "nbformat": 4,
 "nbformat_minor": 5
}
