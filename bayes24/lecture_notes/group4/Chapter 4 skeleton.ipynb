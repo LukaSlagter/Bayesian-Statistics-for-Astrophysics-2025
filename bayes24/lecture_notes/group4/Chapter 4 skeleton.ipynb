{
 "cells": [
  {
   "cell_type": "code",
   "execution_count": 1,
   "id": "eaeaf45b-88ab-4724-baaa-71002945545e",
   "metadata": {
    "ExecuteTime": {
     "end_time": "2024-10-09T16:09:31.029361600Z",
     "start_time": "2024-10-09T16:09:31.011769600Z"
    }
   },
   "outputs": [],
   "source": [
    "# The 3 steps of Bayesian inference\n"
   ]
  }
 ],
 "metadata": {
  "kernelspec": {
   "name": "python3",
   "language": "python",
   "display_name": "Python 3 (ipykernel)"
  },
  "language_info": {
   "codemirror_mode": {
    "name": "ipython",
    "version": 3
   },
   "file_extension": ".py",
   "mimetype": "text/x-python",
   "name": "python",
   "nbconvert_exporter": "python",
   "pygments_lexer": "ipython3",
   "version": "3.9.19"
  }
 },
 "nbformat": 4,
 "nbformat_minor": 5
}
