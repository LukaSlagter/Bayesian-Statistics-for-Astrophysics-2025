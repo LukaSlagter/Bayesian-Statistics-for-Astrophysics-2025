{
 "cells": [
  {
   "cell_type": "markdown",
   "source": [
    "In this chapter we'll explore hypothesis testing."
   ],
   "metadata": {
    "collapsed": false
   },
   "id": "6c23ab81294dfa73"
  },
  {
   "cell_type": "code",
   "outputs": [],
   "source": [],
   "metadata": {
    "collapsed": false,
    "ExecuteTime": {
     "end_time": "2024-10-22T13:13:19.806807Z",
     "start_time": "2024-10-22T13:13:19.801575Z"
    }
   },
   "id": "258f787934659727",
   "execution_count": 0
  }
 ],
 "metadata": {
  "kernelspec": {
   "display_name": "Python 3 (ipykernel)",
   "language": "python",
   "name": "python3"
  },
  "language_info": {
   "codemirror_mode": {
    "name": "ipython",
    "version": 3
   },
   "file_extension": ".py",
   "mimetype": "text/x-python",
   "name": "python",
   "nbconvert_exporter": "python",
   "pygments_lexer": "ipython3",
   "version": "3.9.17"
  }
 },
 "nbformat": 4,
 "nbformat_minor": 5
}
