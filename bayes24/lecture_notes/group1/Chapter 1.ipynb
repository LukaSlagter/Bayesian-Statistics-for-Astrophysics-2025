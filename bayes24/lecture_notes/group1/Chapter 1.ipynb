{
 "cells": [
  {
   "metadata": {},
   "cell_type": "markdown",
   "source": [
    "# Chapter 1: Hypothesis Testing & Maximum Likelihood"
   ],
   "id": "15986c3a895a01a7"
  },
  {
   "metadata": {
    "collapsed": false
   },
   "cell_type": "markdown",
   "source": [
    "In this chapter we'll explore hypothesis testing.\n",
    "- Hypothesis testing including (Yannick):\n",
    "    - p-values\n",
    "    - pro's and cons\n",
    "- Maximum likelihood including (Sander en Olivier):\n",
    "    - Connection to least-squares (Olivier)\n",
    "    - Connection to generative model (e.g., Hogg et al. article) \n",
    "    - Confidence intervals (\"a frequentist recipe\") (Sander)"
   ],
   "id": "283ccdf132b170ad"
  },
  {
   "metadata": {},
   "cell_type": "markdown",
   "source": [
    "## Hypothesis Testing\n",
    "\n",
    "A hypothesis is a statement regarding a population parameter. The hypothesis test is used to make a decision, based on a sample from the population, which of the hypotheses is true; either the *Null hypothesis* or the *Alternative hypothesis*. \n",
    "\n",
    "The null hypothesis is the default assumption that there is no relationship between two measured phenomena and is denoted as $H_0$. The alternative hypothesis is the complement of the null hypothesis and is denoted as $H_1$. Let us note this in a more formal mathematical manner.\n",
    "\n",
    "Let $\\theta$ denote the hypothesis and let us partition the parameter space $\\Theta$ into two complementary sets, $\\Theta_0$ and $\\Theta_1$, such that $\\Theta_0$+$\\Theta_1$=$\\Theta$. The hypothesis test tests\n",
    "\n",
    "$$H_0:\\ \\theta\\in\\Theta_0\\ \\text{versus}\\ H_1:\\ \\theta\\in\\Theta_1.$$\n",
    "\n",
    "For example, $\\theta$ may characterize the shift in frequency of light due to differences in velocities of an observer and source (Doppler shift). An astronomer may be interested to see whether \n",
    "### p-values\n",
    "\n",
    "### pro's and cons"
   ],
   "id": "dca4616875ba712b"
  },
  {
   "metadata": {},
   "cell_type": "markdown",
   "source": [
    "## Maximum likelihood\n",
    "\n",
    "### Least-squares\n",
    "### Generative model\n",
    "### Confidence intervals\n",
    "\n",
    "One of the most popular ways to communicate uncertainty is through *confidence intervals*. The idea is to find an interval around the estimated value $\\hat\\theta$ that covers the true value $\\theta^*$. We characterize the confidence interval through the *confidence level* $\\gamma$. A $\\gamma$-confidence interval has a probability of atleast $\\gamma$ that the interval $(\\hat\\theta_l,\\hat\\theta_r)$ contains the true parameter $\\theta^*$, or in mathematical terms: \\begin{equation} P(\\theta^*\\in(\\hat\\theta_l,\\hat\\theta_r)\\geqq\\gamma \\end{equation} It is important to understand that it is not the variable $\\theta^*$ that has a probability of $\\gamma$ to be in the interval (\\hat\\theta_l,\\hat\\theta_r), but rather the chance that the confidence interval has a probability $\\gamma$ to include the true value $\\theta^*$. It is thus not the true value that is random but rather the confidence interval is the one that changes.\n",
    "\n"
   ],
   "id": "db3413cc7142bbe3"
  },
  {
   "metadata": {},
   "cell_type": "code",
   "outputs": [],
   "execution_count": null,
   "source": "",
   "id": "e7b4373b9e68ec8d"
  },
  {
   "metadata": {},
   "cell_type": "markdown",
   "source": [
    "**Sources:**\n",
    "- Hogg et al. (2010) Data analysis recipes: Fitting a model to data\n",
    "- Statistical inference, Casella & Berger (2002)\n",
    "- Mathematical Statistics with Applications, Wackerly et al. (2008)\n",
    "- All of Statistics, Wasserman (2004)\n"
   ],
   "id": "97e745ffddb19d6d"
  },
  {
   "cell_type": "code",
   "source": [],
   "metadata": {
    "collapsed": false,
    "ExecuteTime": {
     "end_time": "2024-11-05T13:02:41.051333Z",
     "start_time": "2024-11-05T13:02:41.047414Z"
    }
   },
   "id": "258f787934659727",
   "outputs": [],
   "execution_count": null
  }
 ],
 "metadata": {
  "kernelspec": {
   "display_name": "Python 3 (ipykernel)",
   "language": "python",
   "name": "python3"
  },
  "language_info": {
   "codemirror_mode": {
    "name": "ipython",
    "version": 3
   },
   "file_extension": ".py",
   "mimetype": "text/x-python",
   "name": "python",
   "nbconvert_exporter": "python",
   "pygments_lexer": "ipython3",
   "version": "3.9.17"
  }
 },
 "nbformat": 4,
 "nbformat_minor": 5
}
