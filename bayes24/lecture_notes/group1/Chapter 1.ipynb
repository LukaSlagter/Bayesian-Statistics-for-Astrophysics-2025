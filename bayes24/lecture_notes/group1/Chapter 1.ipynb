{
 "cells": [
  {
   "metadata": {},
   "cell_type": "markdown",
   "source": [
    "# Chapter 1: Hypothesis Testing & Maximum Likelihood"
   ],
   "id": "15986c3a895a01a7"
  },
  {
   "metadata": {
    "collapsed": false
   },
   "cell_type": "markdown",
   "source": [
    "In this chapter we'll explore hypothesis testing.\n",
    "- Hypothesis testing including (Yannick):\n",
    "    - p-values\n",
    "    - pro's and cons\n",
    "- Maximum likelihood including (Sander en Olivier):\n",
    "    - Connection to least-squares (Olivier)\n",
    "    - Connection to generative model (e.g., Hogg et al. article) \n",
    "    - Confidence intervals (\"a frequentist recipe\") (Sander)"
   ],
   "id": "283ccdf132b170ad"
  },
  {
   "cell_type": "markdown",
   "source": [
    "## Hypothesis Testing\n",
    "\n",
    "A **hypothesis** is a statement regarding a population parameter. The hypothesis test is used to make a decision, based on a sample from the population, which of the hypotheses is true; either the **Nullhypothesis** or the **Alternative hypothesis**.\n",
    "\n",
    "The null hypothesis is the default assumption that there is no relationship between two measured phenomena and is denoted as $H_0$. The alternative hypothesis is the complement of the null hypothesis and is denoted as $H_1$. Let us note this in a more formal mathematical manner.\n",
    "\n",
    "Let $\\theta$ denote the hypothesis and let us partition the parameter space $\\Theta$ into two complementary sets, $\\Theta_0$ and $\\Theta_1$, such that $\\Theta_0$+$\\Theta_1$=$\\Theta$. The **hypothesis test** tests\n",
    "\n",
    "$$H_0:\\ \\theta\\in\\Theta_0\\ \\text{versus}\\ H_1:\\ \\theta\\in\\Theta_1.$$\n",
    "\n",
    "For example, $\\theta$ may characterize the shift in frequency of light due to differences in velocities of an observer and source (Doppler shift). A sceptical astronomer may be interested to see whether the Doppler shift exists or not. The null hypothesis may then be $H_0: \\theta = 0$, implying that there is no shift in frequency while the alternative hypothesis may be $H_1: \\theta \\neq 0$.\n",
    "\n",
    "Sticking with this example, if the sceptical astronomer researches this hypothesis thoroughly (with perfect equipment), they will of course find that $\\theta\\neq0$ since the Doppler effect exists. Hence, the astronomer should **reject** the Null hypothesis. Suppose the sceptical astronomer uses faulty equipment and finds $\\theta=0$, they should then (wrongfully) **retain** the Null hypothesis.\n",
    "\n",
    "This wrongful retention is one of the two errors that can be made in hypothesis testing. Them being a **type I error** and **type II error**. A type I error occurs when the Null hypothesis is rejected when in reality it is true. A type II error occurs when a Null hypothesis is accepted while in reality it is false. In the latter example the astronomer thus makes a type II error, since the Doppler effect is real and thus there *is* a shift in frequency implying that the Null hypothesis should be rejected. These errors have been summarized in the table below.\n",
    "\n",
    "<center>\n",
    "\n",
    "|                       | **Retain Null**   | **Reject Null**   |\n",
    "|-----------------------|-------------------|-------------------|\n",
    "| **H₀ true**           | Correct          | Type I error      |\n",
    "| **H₁ true**           | Type II error    | Correct           |\n",
    "\n",
    "</center>\n",
    "\n",
    "\n",
    "\n",
    "It should be noted that a null hypothesis can never be accepted. For that to happen, an infinite number of measurements must be made which is of course impossible. It is only possible to find evidence *against* the null hypothesis.\n",
    "\n",
    "To test a hypothesis a **Test Statistic (TS)** should be made. The test statistic is then used to measure the probability of a measurement outcome, given that the null hypothesis is *true*. This probability is also known as **the p-value** discussed in the next subsection.\n",
    "\n",
    "The test statistic can be any statistic that combines multiple **random variables** into a single number. This can be for example the median of a dataset, a likelihood ratio, etc. If the probability distribution of the test statistic is known from theory, a probability can be assigned to a given test statistic. If the probability distribution is unknown, **Monte Carlo simulations** can be used assuming $H_0$ is correct. More on this in [chapter 6](https://bayesian-statistics-for-astrophysics-2024.readthedocs.io/en/latest/lecture_notes/group6/Chapter%206.html)."
   ],
   "metadata": {
    "collapsed": false
   },
   "id": "33c7bbdc7bfbedb7"
  },
  {
   "cell_type": "markdown",
   "source": [
    "## p-values\n",
    "\n",
    "As briefly introduced in the previous subsection, the p-value can be defined as follows:\n",
    "\n",
    "$$\\boxed{\\textit{the p-value is the probability of measuring a dataset $X$ if the null hypothesis is correct.}}$$\n",
    "\n",
    "The p-value is derived from the test statistic which is some function that maps the dataset $X$ to a single value. More precisely, it is derived from the probability distribution of the test statistic known from theory or from a Monte Carlo simulation.\n",
    "\n",
    "The null hypothesis is rejected if the test statistic falls within a predetermined region, called the **rejection region**. Often in literature this rejection region is set at a value for the test statistic, such that the corresponding p-value is less than $0.05$. This limiting value is often called the **significance**.\n",
    "\n",
    "In scientific articles, often something along the lines of \"this null hypothesis is rejected at the $n\\ \\sigma$ level\" is stated. This simply means that the observed result is significant to a degree where the probability of it occurring due to random chance corresponds to a deviation of $n\\sigma$ from the mean of a normal distribution. For example: $1\\ \\sigma$ would correspond to a confidence level of $68.3\\%$, $3\\ \\sigma$ corresponds to $99.7\\%$, etc."
   ],
   "metadata": {
    "collapsed": false
   },
   "id": "897fef1129de20ed"
  },
  {
   "cell_type": "markdown",
   "source": [
    "## Advantages and Disadvantages of Hypothesis Testing\n",
    "\n",
    "The main advantage of hypothesis testing is that it provides a structured framework for decision-making. The steps of hypothesis testing are as follows:\n",
    "\n",
    "1.  Form a null and alternative hypothesis.\n",
    "\n",
    "2.  Define a test statistic $T$.\n",
    "\n",
    "3.  Find the probability distribution of the test statistic.\n",
    "\n",
    "4.  Compare the test statistic with the probability distribution to find the p-value.\n",
    "\n",
    "In addition, the concept of p-values is widely known across disciplines.\n",
    "\n",
    "Hypothesis testing has some notable downsides. One major issue is that statistical tests are often applied more than necessary. In many situations, confidence intervals or estimation methods might be more appropriate. If you don't have a clear, meaningful hypothesis, don't need to make a definitive yes-or-no decision, or aren't concerned about error probabilities, then hypothesis testing might not be the right approach for your needs.\n",
    "\n",
    "Another issue around p-values is the misinterpretation of them. The p-value is *not* the probability of $H_0$ being correct. This is a mistake often found in articles. It is strictly the probability of measuring a dataset $X$ *if* the null hypothesis is correct based on the defined test statistic (with explicit emphasis on the word *if*). The true definition of the p-value is thus a bit of an awkward one and should therefore be used with caution when communicating with a wider audience consisting of not only those educated in statistics.\n",
    "\n",
    "Scientific fields like psychology and medicine have faced a major challenge called the replication crisis due to this misinterpretation of p-values. Here, many high-profile findings couldn't be reproduced, even with large samples and identical methods. This revealed that a significant number of \"discoveries\\\" might actually be false positives, despite being widely accepted and forming the basis of extensive research. Several factors contribute to this problem, both unintentional and deliberate:\n",
    "\n",
    "1.  Multiple Testing: Many studies fail to account for the fact that testing multiple hypotheses increases the likelihood of false positives. This oversight is often due to inadequate education in statistics.\n",
    "\n",
    "2.  Publication Bias: Journals prioritize significant results, leading to the \"file drawer effect\\\", where studies with non-significant findings remain unpublished. As a result, the scientific record is biased toward positive results.\n",
    "\n",
    "3.  Incentives and Misconduct: Researchers may unintentionally or deliberately engage in practices like:\n",
    "\n",
    "    -   HARKing (Hypothesizing After Results are Known): Creating hypotheses based on the data after seeing the results, which undermines the validity of the conclusions.\n",
    "\n",
    "    -   p-hacking: Manipulating data or analysis (e.g., excluding outliers or changing variables) to achieve statistically significant results.\n",
    "\n",
    "These issues have started to gain attention in recent years, prompting efforts to improve research practices. While fields like astronomy and physics have been less affected, they are not immune. The lesson is clear: small shortcuts or biases can accumulate and harm the integrity of science."
   ],
   "metadata": {
    "collapsed": false
   },
   "id": "2233af690a11423a"
  },
  {
   "cell_type": "markdown",
   "source": [
    "## Example: sceptical astronomer\n",
    "\n",
    "Let's return to the example of the sceptical astronomer. Suppose the astronomer has a dataset of $N=100$ measurements of the Doppler shift. He lets the velocity difference between the observer and source be $50 \\text{ km s}^{-1}$. Let us assume that the source is a hydrogen atom transitioning from the $n=3$ to the $n=2$ orbital, generating a photon with a wavelength of $\\lambda_0=656.279\\text{ nm}$. The astronomer wants to test the hypothesis that the Doppler shift is zero. Since this is an illustration of hypothesis testing, we will generate the data using the Doppler shift formula and then perform a hypothesis test on it.\n",
    "\n",
    "Let us assume the uncertainty in the measurements is due to the equipment and is $1\\text{ nm}$ (a relatively large uncertainty when the shift will be around $0.1\\text{ nm}$). We will generate the data and plot it below."
   ],
   "metadata": {
    "collapsed": false
   },
   "id": "da72fb8c1dd63707"
  },
  {
   "cell_type": "code",
   "outputs": [],
   "source": [
    "import numpy as np\n",
    "import astropy.constants as c\n",
    "import astropy.units as u\n",
    "import matplotlib.pyplot as plt\n",
    "\n",
    "# LaTeX rendering\n",
    "plt.style.use(\"seaborn-v0_8-colorblind\")\n",
    "\n",
    "def doppler_shift(dv, f_0):\n",
    "    return (1+dv/c.c)*f_0\n",
    "\n",
    "# Generate some data\n",
    "np.random.seed(42)  \n",
    "\n",
    "# Balmer alpha line\n",
    "lambda_0 = 656.279*u.nm\n",
    "\n",
    "# Doppler shift\n",
    "f_0 = c.c/lambda_0\n",
    "dv = 50*u.km/u.s\n",
    "f = doppler_shift(dv, f_0)\n",
    "\n",
    "# Convert to wavelength\n",
    "lam = c.c/f\n",
    "\n",
    "# Add noise\n",
    "noise = np.random.normal(0, 1, 100) * u.nm\n",
    "data = lam + noise"
   ],
   "metadata": {
    "collapsed": false,
    "ExecuteTime": {
     "end_time": "2024-12-19T15:39:22.688723Z",
     "start_time": "2024-12-19T15:39:20.958260Z"
    }
   },
   "id": "68d242ec23761499",
   "execution_count": 1
  },
  {
   "cell_type": "code",
   "outputs": [
    {
     "data": {
      "text/plain": "<Figure size 640x480 with 1 Axes>",
      "image/png": "[encoded data removed]"
     },
     "metadata": {},
     "output_type": "display_data"
    }
   ],
   "source": [
    "plt.plot(data, 'o', label='Data')\n",
    "plt.xlabel('Measurement number')\n",
    "plt.ylabel('Wavelength [nm]')\n",
    "plt.grid()\n",
    "plt.axhline(lambda_0.value, color='r', linestyle='--', label=r'$\\lambda_0$')\n",
    "plt.legend()\n",
    "plt.show()"
   ],
   "metadata": {
    "collapsed": false,
    "ExecuteTime": {
     "end_time": "2024-12-19T15:39:44.297681Z",
     "start_time": "2024-12-19T15:39:44.053480Z"
    }
   },
   "id": "71dfb7115b56d244",
   "execution_count": 5
  },
  {
   "cell_type": "markdown",
   "source": [
    "We can use the test statistic $T$ as the mean of the data. The p-value is then the probability of measuring a dataset with a mean equal to or more extreme than the observed mean, given that the null hypothesis is true. We will perform this test below.\n",
    "\n",
    "A test statistic $T$ of this form can be defined as\n",
    "\n",
    "$$T = \\frac{\\text{Observed statistic}-\\text{Expected statistic}}{\\text{Standard deviation of statistic}}$$\n",
    "\n",
    "In this case, the expected statistic is the mean of the data under the null hypothesis ($\\lambda_0$), the observed statistic is the mean of the data, and the standard deviation of the statistic is the standard deviation of the data divided by the square root of the number of measurements."
   ],
   "metadata": {
    "collapsed": false
   },
   "id": "a71bea8800ed7fa5"
  },
  {
   "cell_type": "code",
   "outputs": [
    {
     "name": "stdout",
     "output_type": "stream",
     "text": [
      "Test statistic: -2.36\n",
      "p-value: 1.82584e-02\n"
     ]
    }
   ],
   "source": [
    "from scipy.stats import norm\n",
    "\n",
    "# Compute the standard error (SE) assuming constant measurement uncertainty\n",
    "std_dev = np.std(data)          # Standard deviation of our simulated data\n",
    "n = len(data)                   # Number of observations\n",
    "se = std_dev / np.sqrt(n)       # Standard error\n",
    "\n",
    "# Compute the observed test statistic\n",
    "T = (np.mean(data) - lambda_0) / se\n",
    "\n",
    "# Calculate the two-tailed p-value\n",
    "p_value = 2 * (1 - norm.cdf(abs(T)))\n",
    "\n",
    "print(f'Test statistic: {T:.2f}')\n",
    "print(f'p-value: {p_value:.5e}')"
   ],
   "metadata": {
    "collapsed": false,
    "ExecuteTime": {
     "end_time": "2024-12-19T15:39:24.879858Z",
     "start_time": "2024-12-19T15:39:23.250564Z"
    }
   },
   "id": "ad004460bc5b8028",
   "execution_count": 3
  },
  {
   "cell_type": "markdown",
   "source": [
    "Let's recap for a minute what we have done. We have generated a dataset of 100 measurements of the Doppler shift of a hydrogen atom. We have then calculated the test statistic $T$ as the mean of the data and the p-value as the probability of measuring a dataset with a mean equal to or more extreme than the observed mean, given that the null hypothesis is true. We found that the p-value is $1.8\\%$. This is a small probability given that our uncertainty per measurement is $1\\text{ nm}$ and only 100 datapoints were simulated."
   ],
   "metadata": {
    "collapsed": false
   },
   "id": "9bd7cb15eb67d4c4"
  },
  {
   "cell_type": "markdown",
   "source": [
    "# Maximum likelihood\n",
    "\n",
    "Before we can talk about the maximum likelihood estimation, we need to take at look at parametric models and parametric inference. A parametric model has the form\n",
    "\n",
    "$$\\mathcal{F} = \\{f(x;\\theta) : \\theta \\in \\Theta\\}$$\n",
    "\n",
    "where $\\Theta \\subset \\mathbb{R}^k$ is the parameter space and $\\theta = (\\theta_1,..., \\theta_k)$ is the parameter, meaning $\\Theta$ is a k-dimensional parameter space with real numbers for each parameter and $\\theta$ is a specific point in this parameter space. The goal of inference is now to estimate the specific value of $\\theta$ that best represents the true parameter $\\theta^*$ based on the observed data $X_1,...,X_k$. This specific value of $\\theta$ will be called $\\hat{\\theta}$. To find this $\\hat{\\theta}$, it is natural to ask:\n",
    "\n",
    "$$ \\textit{Given observed data $X_1, . . . , X_n$, which value for the true parameter $\\theta^*$ is most probable?} $$\n",
    "\n",
    "However, the problem here is that $\\theta^*$ is a fixed unknown value, while we want to assess it to a probability. This is unfortunately not possible in the frequentist framework. To fix this, we need to use a Bayesian framework and we must ask a different question.\n",
    "\n",
    "\n",
    "$$\\textit{Given a parameter value $\\theta$, how probable is it that we observe\n",
    "the data $X_1, . . . , X_n$?}$$\n",
    "\n",
    "Now the data can be assets probabilistically, as they are random variables. The estimator $\\hat{\\theta}$ is then defined as the value of $\\theta$ at which the data is the most likely; so given the parameter, we maximize the likelihood.\n",
    "\n",
    "This maximum likelihood estimation is the most common method for parameter estimation in a parametric model. Before moving forward, we first need to define the likelihood of the data.\n",
    "\n",
    "If we compute Independent and Identically Distributed (IID) values $X_1,...,X_n$ with a PDF $f(x;\\theta)$, the **likelihood function** is defined by: \n",
    "\n",
    "$$\\mathcal{L}_n(\\theta) =\\prod_{i=1}^{n} f(X_i;\\theta)\n",
    "    $$\n",
    "\n",
    "Therefore, the **log-likelihood function** is then defined by: $\\ell_{n}(\\theta)=\\log\\mathcal{L}_n(\\theta)$"
   ],
   "metadata": {
    "collapsed": false
   },
   "id": "7b799509cef337b9"
  },
  {
   "cell_type": "markdown",
   "source": [
    "## Maximum Likelihood Estimator\n",
    "\n",
    "The **maximum likelihood estimator (MLE) $\\hat\\theta$** is defined by the value of $\\theta$ that maximizes $\\mathcal{L}_n(\\theta)$. This value of $\\hat\\theta$ is the same for both $\\mathcal{L}_n(\\theta)$ and $\\ell_{n}(\\theta)$, as the maximum of a function occurs at the same place as the maximum of the logarithm of this function. This is especially convenient if we look at the maximum likelihood estimator in a mathematical way. The MLE of the likelihood is defined with a product.\n",
    "\n",
    "$$\\hat{\\theta} = \\arg \\max_{\\theta \\in \\Theta} \\prod_{i=1}^{n} f_{\\theta}(X_i).$$ \n",
    "So the MLE of the log-likelihood is then defined with a sum.\n",
    "$$\\hat{\\theta} = \\arg\\max_{\\theta \\in \\Theta} \\sum_{i=1}^{n} \\ln f_{\\theta}(X_i)$$\n",
    "\n",
    "Once you recall that the maximum of a function is found by setting the first derivative of a function equal to zero, the advantage of the log-likelihood function is easily seen. Indeed, the derivative of a sum is the same as the sum of the derivatives. While the derivative of a product of *n* terms will result in applying the product rule *n* times.\n",
    "\n",
    "The MLE can be computed theoretically. This is done by the following steps:\n",
    "\n",
    "1.  Computing the log-likehood function $\\ell_{n}(\\theta)$\n",
    "\n",
    "2.  Calculate the first derivative of each component\n",
    "\n",
    "3.  Set all the derivatives to zero. For an n-dimension $\\ell_{n}(\\theta)$ this gives $$\\frac{\\partial \\ell(\\theta)}{\\partial \\theta_1} = 0 \\quad , ..., \\quad \\frac{\\partial \\ell(\\theta)}{\\partial \\theta_n} = 0.\n",
    "        $$\n",
    "\n",
    "4.  Solve the equations from step 3 so that MLE $\\hat{\\theta}$ of $\\theta$ is found.\n",
    "\n",
    "Sometimes, these steps can be a lot of computation work. If you don't feel like doing this or a statistical problem is simply too difficult, you can also determine the MLE numerically. In a Python script, this can for example be done with the [scipy.optimize](https://docs.scipy.org/doc/scipy/tutorial/optimize.html) module. The following example demonstrates that there is no disparity between computing the MLE analytically or numerically."
   ],
   "metadata": {
    "collapsed": false
   },
   "id": "1716fa95a90324d9"
  },
  {
   "cell_type": "markdown",
   "source": [
    "### Example: Analystical versus Numerarical MLE\n",
    "Consider the function $f(\\mu,\\sigma)$ $$f(\\mu, \\sigma) = \\frac{1}{\\sqrt{2\\pi} \\sigma} e^{-\\frac{(x - \\mu)^2}{2\\sigma^2}}$$\n",
    "\n",
    "This gives the log-likelihood function $$\\ell(\\mu, \\sigma) =\\sum_{i=1}^{N} \\ln(f(\\mu,\\sigma)) =-\\frac{N}{2} \\ln(2\\pi) - N \\ln(\\sigma) - \\frac{1}{2\\sigma^2} \\sum_{i=1}^{N} (x_i - \\mu)^2.$$\n",
    "\n",
    "\n",
    "For this log-likelihood function $\\ell(\\mu, \\sigma)$ the maximum likelihood is calculated both analytically and numerically. Let's assume the data from the example above regarding the sceptical astronomer (notice how the data variable is not changed in this piece of code and is used directly from the previous example). Run the Python script below to see that the same value of the MLE is found regardless of which computation is used."
   ],
   "metadata": {
    "collapsed": false
   },
   "id": "e26fdaa4e60d442a"
  },
  {
   "cell_type": "code",
   "outputs": [
    {
     "name": "stdout",
     "output_type": "stream",
     "text": [
      "Analytical method:\n",
      "μ = 656.0657161793672 nm, σ = 0.9036161766446291 nm \n",
      "\n",
      "Numerical method:\n",
      "μ = 656.0657163204406 nm, σ = 0.9036161879095135 nm\n"
     ]
    }
   ],
   "source": [
    "import numpy as np \n",
    "from scipy.optimize import minimize \n",
    "# Define random data points and the number of data points\n",
    "N = len(data)\n",
    "\n",
    "# We define a function to calculate the MLE analytically \n",
    "def analytical(data):\n",
    "    # mu_hat is defined by the mean of the data, because f is defined as a normal distribution. \n",
    "    mu_hat = np.mean(data)\n",
    "    # define sigma_hat\n",
    "    sigma_hat = np.sqrt(np.mean((data - mu_hat) ** 2))\n",
    "    \n",
    "    return mu_hat, sigma_hat\n",
    "    \n",
    "\n",
    "# We define a function to calculate the MLE numerically    \n",
    "def numerical(data):\n",
    "    # Define the negative log-likelihood function, so that we can use scipy.optimize.minimize \n",
    "    def negative_log_likeli(parameters):\n",
    "        mu, sigma = parameters\n",
    "        # Ensure that sigma is not negative\n",
    "        if sigma <= 0:\n",
    "            return np.inf\n",
    "        # Return the negative log-likelihood function \n",
    "        return N / 2 * np.log(2 * np.pi) + N * np.log(sigma) + np.sum((data - mu) ** 2) / (2 * sigma ** 2)\n",
    "    \n",
    "    # Convert the data to dimensionless values so scipy can work with it\n",
    "    data = data.value\n",
    "    # Take a first guess for the numerical solution\n",
    "    mu_guess = 0\n",
    "    sigma_guess = 1\n",
    "    \n",
    "    # Minimize the negative log-likelihood function to get mu and sigma \n",
    "    parameters =  minimize(negative_log_likeli, [mu_guess,sigma_guess], method=\"L-BFGS-B\", bounds=[(-np.inf, np.inf), (1e-6, np.inf)])\n",
    "    \n",
    "    # We don't convert units in the minimization process, hence the units that the values originally had return\n",
    "    mu_numerical = parameters.x[0] * u.nm\n",
    "    sigma_numerical = parameters.x[1] * u.nm\n",
    " \n",
    "    return mu_numerical, sigma_numerical\n",
    "    \n",
    "mu_analytical, sigma_analytical = analytical(data)\n",
    "mu_numerical, sigma_numerical = numerical(data)\n",
    "\n",
    "print(\"Analytical method:\")\n",
    "print(f\"\\u03BC = {mu_analytical}, \\u03C3 = {sigma_analytical} \\n\")\n",
    "\n",
    "print(\"Numerical method:\")\n",
    "print(f\"\\u03BC = {mu_numerical}, \\u03C3 = {sigma_numerical}\")"
   ],
   "metadata": {
    "collapsed": false,
    "ExecuteTime": {
     "end_time": "2024-12-19T15:39:24.937820Z",
     "start_time": "2024-12-19T15:39:24.882091Z"
    }
   },
   "id": "1931f70f5c36497e",
   "execution_count": 4
  },
  {
   "cell_type": "markdown",
   "source": [
    "The question may now have as to why the MLE is such a commonly used estimator. The case is that the MLE has several nice quantities like consistency, which we will not dive into here. However, one reason we can name to use the MLE, is that no other estimator has a smaller variance and thus the MLE extracts the maximum information. In a simpler way one of the most famous statistics said:\n",
    "\n",
    "$$\\textit{``It's just common sense.'' --- Pierre-Simon Laplace}$$\n",
    "\n",
    "On the other hand, we should always beware when to use which statistical model and if this model is correctly specified. If some of your parameters are poorly identified, the estimate model will not converge to the actual one. In this case it is so much that the statistical model is wrong, but rather that it is not useful. An example is the stock market crash in 2008, where the losses of the Dow Jones Industrial Average were more than seven $\\sigma$. This indicates that the losses were more than seven times higher than the standard deviation. The probability of this happening is around $2 \\cdot 10^{-8}$. It is not that we are very unlucky that this happened despite this small chance, but there are more parameters at play, which are not incorporated in our model. Therefore, our model was not applicable this time."
   ],
   "metadata": {
    "collapsed": false
   },
   "id": "40f5ee983bf0aff4"
  },
  {
   "cell_type": "markdown",
   "source": [
    "\n",
    "### Least-squares\n",
    "### Generative model\n",
    "Imagine you have a data set \\textit{y} of $N$ data points, which you want to be able to explain using a model. We expect that the data comes from a straight line model, \\begin{equation}\n",
    "    f(x)=ax+b.\n",
    "\\end{equation}\n",
    "This model produces the data set \\{$y_i$\\} with uncertainties \\{$\\sigma_{y_i}$\\}. Our goal is to find the parameters that are most likely to have generated our data. We can do this by writing down a \\textit{generative model}. This model should be a description of a statistical procedure that could generate the known data set. For this example, we say that the \\{$y_i$\\} are drawn from a Gaussian distribution with zero mean and uncertainties \\{$\\sigma_{y_i}$\\}. So the data deviates from a straight line with small offsets drawn from a Gaussian distribution. Now we can create a distribution which describes the probability that we get points $y_i$, given the knowledge that we have: \\begin{equation}\n",
    "    p(y_i|x_i,\\sigma_i,a,b)=\\frac{1}{\\sqrt{2\\pi\\sigma_i^2}}\\exp{-\\frac{y_i-ax_i-b}{2\\sigma_i^2}},\n",
    "\\end{equation}\n",
    "where \\{$x_i$\\} are the independent positions, $a$ is the slope, $b$ the intercept and $y_i$ and $\\sigma_{y_i}$ as before. Now that we have this distribution, we can achieve our goal of finding the parameters that are most likely to have generated our data. We can do this by writing down the likelihood of the complete set \\textit{y} given our prior knowledge. \\begin{equation}\n",
    "    \\mathscr{L}=\\prod_{i=1}^Np(y_i|x_i,\\sigma_i,a,b).\n",
    "\\end{equation}\n",
    "### Confidence intervals\n",
    "\n",
    "One of the most popular ways to communicate uncertainty is through *confidence intervals*. The idea is to find an interval around the estimated value $\\hat\\theta$ that covers the true value $\\theta^*$. We characterize the confidence interval through the *confidence level* $\\gamma$. A $\\gamma$-confidence interval has a probability of atleast $\\gamma$ that the interval $(\\hat\\theta_l,\\hat\\theta_r)$ contains the true parameter $\\theta^*$, or in mathematical terms: \\begin{equation} P(\\theta^*\\in(\\hat\\theta_l,\\hat\\theta_r)\\geqq\\gamma \\end{equation}\n",
    "\n"
   ],
   "metadata": {
    "collapsed": false
   },
   "id": "c5766b3dfe7702a9"
  },
  {
   "cell_type": "code",
   "outputs": [],
   "source": [],
   "metadata": {
    "collapsed": false,
    "ExecuteTime": {
     "end_time": "2024-12-19T15:39:24.947068Z",
     "start_time": "2024-12-19T15:39:24.942663Z"
    }
   },
   "id": "4eeffa3302601a84",
   "execution_count": 4
  },
  {
   "metadata": {},
   "cell_type": "markdown",
   "source": [
    "**Sources:**\n",
    "- Hogg et al. (2010) Data analysis recipes: Fitting a model to data\n",
    "- Statistical inference, Casella & Berger (2002)\n",
    "- Mathematical Statistics with Applications, Wackerly et al. (2008)\n",
    "- All of Statistics, Wasserman (2004)\n"
   ],
   "id": "97e745ffddb19d6d"
  },
  {
   "cell_type": "code",
   "source": [],
   "metadata": {
    "collapsed": false,
    "ExecuteTime": {
     "end_time": "2024-12-19T15:39:24.955922Z",
     "start_time": "2024-12-19T15:39:24.950624Z"
    }
   },
   "id": "258f787934659727",
   "outputs": [],
   "execution_count": 4
  }
 ],
 "metadata": {
  "kernelspec": {
   "display_name": "Python 3 (ipykernel)",
   "language": "python",
   "name": "python3"
  },
  "language_info": {
   "codemirror_mode": {
    "name": "ipython",
    "version": 3
   },
   "file_extension": ".py",
   "mimetype": "text/x-python",
   "name": "python",
   "nbconvert_exporter": "python",
   "pygments_lexer": "ipython3",
   "version": "3.9.17"
  }
 },
 "nbformat": 4,
 "nbformat_minor": 5
}
